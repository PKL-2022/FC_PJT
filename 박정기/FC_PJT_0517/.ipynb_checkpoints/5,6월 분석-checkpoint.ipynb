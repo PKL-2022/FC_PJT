{
 "cells": [
  {
   "cell_type": "code",
   "execution_count": 32,
   "id": "e6bad7dd",
   "metadata": {},
   "outputs": [],
   "source": [
    "import pandas as pd\n",
    "import numpy as np\n",
    "import matplotlib.pyplot as plt\n",
    "import seaborn as sns\n",
    "\n",
    "# row 제한 없애기\n",
    "# pd.set_option('display.max_rows', None)\n",
    "\n",
    "import pandas as pd\n",
    "df = pd.read_csv('pp_FC.csv', index_col = 0)\n"
   ]
  },
  {
   "cell_type": "code",
   "execution_count": 37,
   "id": "b36ca7f6",
   "metadata": {},
   "outputs": [],
   "source": [
    "import matplotlib.pyplot as plt\n",
    "import matplotlib.font_manager as fm\n",
    "font_location = '../NanumGothic.ttf'  #font 경로 설정\n",
    "font_name = fm.FontProperties(fname=font_location).get_name()\n",
    "plt.rc('font', family=font_name)"
   ]
  },
  {
   "cell_type": "code",
   "execution_count": 2,
   "id": "f78426c0",
   "metadata": {},
   "outputs": [
    {
     "data": {
      "text/html": [
       "<div>\n",
       "<style scoped>\n",
       "    .dataframe tbody tr th:only-of-type {\n",
       "        vertical-align: middle;\n",
       "    }\n",
       "\n",
       "    .dataframe tbody tr th {\n",
       "        vertical-align: top;\n",
       "    }\n",
       "\n",
       "    .dataframe thead th {\n",
       "        text-align: right;\n",
       "    }\n",
       "</style>\n",
       "<table border=\"1\" class=\"dataframe\">\n",
       "  <thead>\n",
       "    <tr style=\"text-align: right;\">\n",
       "      <th></th>\n",
       "      <th>id</th>\n",
       "      <th>customer_id</th>\n",
       "      <th>course_id</th>\n",
       "      <th>type</th>\n",
       "      <th>state</th>\n",
       "      <th>course_title</th>\n",
       "      <th>category_title</th>\n",
       "      <th>format</th>\n",
       "      <th>completed_at</th>\n",
       "      <th>transaction_amount</th>\n",
       "      <th>coupon_title</th>\n",
       "      <th>coupon_discount_amount</th>\n",
       "      <th>sale_price</th>\n",
       "      <th>tax_free_amount</th>\n",
       "      <th>pg</th>\n",
       "      <th>method</th>\n",
       "      <th>subcategory_title</th>\n",
       "      <th>marketing_start_at</th>\n",
       "    </tr>\n",
       "  </thead>\n",
       "  <tbody>\n",
       "    <tr>\n",
       "      <th>0</th>\n",
       "      <td>970657</td>\n",
       "      <td>72297.0</td>\n",
       "      <td>204246.0</td>\n",
       "      <td>PAYMENT</td>\n",
       "      <td>COMPLETED</td>\n",
       "      <td>시크릿코드 : 프론트엔드 실무 완성편</td>\n",
       "      <td>프로그래밍</td>\n",
       "      <td>스쿨 온라인</td>\n",
       "      <td>2021-03-28 15:21:43</td>\n",
       "      <td>171810</td>\n",
       "      <td>[10% 할인] 시크릿코드 실무 완성편</td>\n",
       "      <td>19090.0</td>\n",
       "      <td>190900.0</td>\n",
       "      <td>190900.0</td>\n",
       "      <td>NaN</td>\n",
       "      <td>CARD</td>\n",
       "      <td>NaN</td>\n",
       "      <td>2021-03-04 00:00:00</td>\n",
       "    </tr>\n",
       "    <tr>\n",
       "      <th>1</th>\n",
       "      <td>970658</td>\n",
       "      <td>478028.0</td>\n",
       "      <td>201797.0</td>\n",
       "      <td>PAYMENT</td>\n",
       "      <td>COMPLETED</td>\n",
       "      <td>올인원 패키지 : 직장인 필수 스킬 3종 세트 MAX</td>\n",
       "      <td>업무 생산성</td>\n",
       "      <td>올인원</td>\n",
       "      <td>2021-03-28 15:21:54</td>\n",
       "      <td>97500</td>\n",
       "      <td>[웰컴쿠폰] 올인원 패키지 2만원 할인 쿠폰</td>\n",
       "      <td>20000.0</td>\n",
       "      <td>117500.0</td>\n",
       "      <td>117500.0</td>\n",
       "      <td>NaN</td>\n",
       "      <td>CARD</td>\n",
       "      <td>PPT/보고서</td>\n",
       "      <td>2019-11-14 00:00:00</td>\n",
       "    </tr>\n",
       "    <tr>\n",
       "      <th>2</th>\n",
       "      <td>970669</td>\n",
       "      <td>478033.0</td>\n",
       "      <td>203178.0</td>\n",
       "      <td>PAYMENT</td>\n",
       "      <td>COMPLETED</td>\n",
       "      <td>초격차 패키지 : 한번에 끝내는 영상 촬영과 편집</td>\n",
       "      <td>영상/3D</td>\n",
       "      <td>올인원</td>\n",
       "      <td>2021-03-28 15:26:47</td>\n",
       "      <td>96000</td>\n",
       "      <td>[웰컴쿠폰] 올인원 패키지 2만원 할인 쿠폰</td>\n",
       "      <td>20000.0</td>\n",
       "      <td>116000.0</td>\n",
       "      <td>116000.0</td>\n",
       "      <td>NaN</td>\n",
       "      <td>CARD</td>\n",
       "      <td>영상 편집</td>\n",
       "      <td>2020-12-02 00:00:00</td>\n",
       "    </tr>\n",
       "    <tr>\n",
       "      <th>3</th>\n",
       "      <td>970671</td>\n",
       "      <td>469860.0</td>\n",
       "      <td>203644.0</td>\n",
       "      <td>PAYMENT</td>\n",
       "      <td>COMPLETED</td>\n",
       "      <td>올인원 패키지 : 권오상의 금융 아카데미 - 권오상의 재무제표 분석 기초(평생소장)</td>\n",
       "      <td>부동산/금융</td>\n",
       "      <td>올인원</td>\n",
       "      <td>2021-03-28 15:27:17</td>\n",
       "      <td>263000</td>\n",
       "      <td>NaN</td>\n",
       "      <td>NaN</td>\n",
       "      <td>263000.0</td>\n",
       "      <td>263000.0</td>\n",
       "      <td>NaN</td>\n",
       "      <td>CARD</td>\n",
       "      <td>NaN</td>\n",
       "      <td>2020-11-27 00:00:00</td>\n",
       "    </tr>\n",
       "    <tr>\n",
       "      <th>4</th>\n",
       "      <td>970676</td>\n",
       "      <td>478035.0</td>\n",
       "      <td>203720.0</td>\n",
       "      <td>PAYMENT</td>\n",
       "      <td>COMPLETED</td>\n",
       "      <td>초격차 패키지 : 한 번에 끝내는 프론트엔드 개발</td>\n",
       "      <td>프로그래밍</td>\n",
       "      <td>올인원</td>\n",
       "      <td>2021-03-28 15:31:01</td>\n",
       "      <td>91000</td>\n",
       "      <td>[웰컴쿠폰] 올인원 패키지 2만원 할인 쿠폰</td>\n",
       "      <td>20000.0</td>\n",
       "      <td>111000.0</td>\n",
       "      <td>111000.0</td>\n",
       "      <td>NaN</td>\n",
       "      <td>CARD</td>\n",
       "      <td>프론트엔드 개발</td>\n",
       "      <td>2021-02-02 00:00:00</td>\n",
       "    </tr>\n",
       "    <tr>\n",
       "      <th>...</th>\n",
       "      <td>...</td>\n",
       "      <td>...</td>\n",
       "      <td>...</td>\n",
       "      <td>...</td>\n",
       "      <td>...</td>\n",
       "      <td>...</td>\n",
       "      <td>...</td>\n",
       "      <td>...</td>\n",
       "      <td>...</td>\n",
       "      <td>...</td>\n",
       "      <td>...</td>\n",
       "      <td>...</td>\n",
       "      <td>...</td>\n",
       "      <td>...</td>\n",
       "      <td>...</td>\n",
       "      <td>...</td>\n",
       "      <td>...</td>\n",
       "      <td>...</td>\n",
       "    </tr>\n",
       "    <tr>\n",
       "      <th>44184</th>\n",
       "      <td>1364969</td>\n",
       "      <td>669238.0</td>\n",
       "      <td>204286.0</td>\n",
       "      <td>PAYMENT</td>\n",
       "      <td>COMPLETED</td>\n",
       "      <td>초격차 패키지 : 한번에 끝내는 3D 디자인 툴</td>\n",
       "      <td>디자인</td>\n",
       "      <td>올인원</td>\n",
       "      <td>2021-09-25 13:39:26</td>\n",
       "      <td>212000</td>\n",
       "      <td>[미래투자금] 온라인 강의 2만원 할인쿠폰</td>\n",
       "      <td>20000.0</td>\n",
       "      <td>232000.0</td>\n",
       "      <td>232000.0</td>\n",
       "      <td>INICIS</td>\n",
       "      <td>CARD</td>\n",
       "      <td>디자인툴</td>\n",
       "      <td>2021-04-23 00:00:00</td>\n",
       "    </tr>\n",
       "    <tr>\n",
       "      <th>44185</th>\n",
       "      <td>1364976</td>\n",
       "      <td>384003.0</td>\n",
       "      <td>203178.0</td>\n",
       "      <td>PAYMENT</td>\n",
       "      <td>COMPLETED</td>\n",
       "      <td>초격차 패키지 : 한번에 끝내는 영상 촬영과 편집</td>\n",
       "      <td>영상/3D</td>\n",
       "      <td>올인원</td>\n",
       "      <td>2021-09-25 13:46:29</td>\n",
       "      <td>149000</td>\n",
       "      <td>NaN</td>\n",
       "      <td>NaN</td>\n",
       "      <td>149000.0</td>\n",
       "      <td>149000.0</td>\n",
       "      <td>KAKAO</td>\n",
       "      <td>CARD</td>\n",
       "      <td>영상 편집</td>\n",
       "      <td>2020-12-02 00:00:00</td>\n",
       "    </tr>\n",
       "    <tr>\n",
       "      <th>44186</th>\n",
       "      <td>1364991</td>\n",
       "      <td>670891.0</td>\n",
       "      <td>203935.0</td>\n",
       "      <td>PAYMENT</td>\n",
       "      <td>COMPLETED</td>\n",
       "      <td>초격차 패키지 : 한 번에 끝내는 파이썬 웹 개발</td>\n",
       "      <td>프로그래밍</td>\n",
       "      <td>올인원</td>\n",
       "      <td>2021-09-25 14:01:26</td>\n",
       "      <td>159000</td>\n",
       "      <td>[미래투자금] 온라인 강의 2만원 할인쿠폰</td>\n",
       "      <td>20000.0</td>\n",
       "      <td>179000.0</td>\n",
       "      <td>179000.0</td>\n",
       "      <td>INICIS</td>\n",
       "      <td>CARD</td>\n",
       "      <td>백엔드 개발</td>\n",
       "      <td>2021-05-31 00:00:00</td>\n",
       "    </tr>\n",
       "    <tr>\n",
       "      <th>44187</th>\n",
       "      <td>1364996</td>\n",
       "      <td>640697.0</td>\n",
       "      <td>205365.0</td>\n",
       "      <td>PAYMENT</td>\n",
       "      <td>COMPLETED</td>\n",
       "      <td>초격차 패키지 : 한 번에 끝내는 유튜브 크리에이터 되기</td>\n",
       "      <td>영상/3D</td>\n",
       "      <td>올인원</td>\n",
       "      <td>2021-09-25 14:17:41</td>\n",
       "      <td>96000</td>\n",
       "      <td>[WELCOME] 온라인 강의 2만원 할인쿠폰</td>\n",
       "      <td>20000.0</td>\n",
       "      <td>116000.0</td>\n",
       "      <td>116000.0</td>\n",
       "      <td>INICIS</td>\n",
       "      <td>VBANK</td>\n",
       "      <td>영상 편집</td>\n",
       "      <td>2021-06-15 00:00:00</td>\n",
       "    </tr>\n",
       "    <tr>\n",
       "      <th>44188</th>\n",
       "      <td>1365007</td>\n",
       "      <td>610626.0</td>\n",
       "      <td>206720.0</td>\n",
       "      <td>PAYMENT</td>\n",
       "      <td>COMPLETED</td>\n",
       "      <td>용호수의 돈 버는 실전 영상 제작</td>\n",
       "      <td>영상/3D</td>\n",
       "      <td>올인원</td>\n",
       "      <td>2021-09-25 14:25:47</td>\n",
       "      <td>139000</td>\n",
       "      <td>[WELCOME] 온라인 강의 3만원 할인쿠폰</td>\n",
       "      <td>30000.0</td>\n",
       "      <td>169000.0</td>\n",
       "      <td>169000.0</td>\n",
       "      <td>NAVER</td>\n",
       "      <td>POINT</td>\n",
       "      <td>영상 편집</td>\n",
       "      <td>2021-08-17 00:00:00</td>\n",
       "    </tr>\n",
       "  </tbody>\n",
       "</table>\n",
       "<p>44189 rows × 18 columns</p>\n",
       "</div>"
      ],
      "text/plain": [
       "            id  customer_id  course_id     type      state  \\\n",
       "0       970657      72297.0   204246.0  PAYMENT  COMPLETED   \n",
       "1       970658     478028.0   201797.0  PAYMENT  COMPLETED   \n",
       "2       970669     478033.0   203178.0  PAYMENT  COMPLETED   \n",
       "3       970671     469860.0   203644.0  PAYMENT  COMPLETED   \n",
       "4       970676     478035.0   203720.0  PAYMENT  COMPLETED   \n",
       "...        ...          ...        ...      ...        ...   \n",
       "44184  1364969     669238.0   204286.0  PAYMENT  COMPLETED   \n",
       "44185  1364976     384003.0   203178.0  PAYMENT  COMPLETED   \n",
       "44186  1364991     670891.0   203935.0  PAYMENT  COMPLETED   \n",
       "44187  1364996     640697.0   205365.0  PAYMENT  COMPLETED   \n",
       "44188  1365007     610626.0   206720.0  PAYMENT  COMPLETED   \n",
       "\n",
       "                                         course_title category_title  format  \\\n",
       "0                                시크릿코드 : 프론트엔드 실무 완성편          프로그래밍  스쿨 온라인   \n",
       "1                       올인원 패키지 : 직장인 필수 스킬 3종 세트 MAX         업무 생산성     올인원   \n",
       "2                         초격차 패키지 : 한번에 끝내는 영상 촬영과 편집          영상/3D     올인원   \n",
       "3      올인원 패키지 : 권오상의 금융 아카데미 - 권오상의 재무제표 분석 기초(평생소장)         부동산/금융     올인원   \n",
       "4                         초격차 패키지 : 한 번에 끝내는 프론트엔드 개발          프로그래밍     올인원   \n",
       "...                                               ...            ...     ...   \n",
       "44184                      초격차 패키지 : 한번에 끝내는 3D 디자인 툴            디자인     올인원   \n",
       "44185                     초격차 패키지 : 한번에 끝내는 영상 촬영과 편집          영상/3D     올인원   \n",
       "44186                     초격차 패키지 : 한 번에 끝내는 파이썬 웹 개발          프로그래밍     올인원   \n",
       "44187                 초격차 패키지 : 한 번에 끝내는 유튜브 크리에이터 되기          영상/3D     올인원   \n",
       "44188                              용호수의 돈 버는 실전 영상 제작          영상/3D     올인원   \n",
       "\n",
       "              completed_at  transaction_amount               coupon_title  \\\n",
       "0      2021-03-28 15:21:43              171810      [10% 할인] 시크릿코드 실무 완성편   \n",
       "1      2021-03-28 15:21:54               97500   [웰컴쿠폰] 올인원 패키지 2만원 할인 쿠폰   \n",
       "2      2021-03-28 15:26:47               96000   [웰컴쿠폰] 올인원 패키지 2만원 할인 쿠폰   \n",
       "3      2021-03-28 15:27:17              263000                        NaN   \n",
       "4      2021-03-28 15:31:01               91000   [웰컴쿠폰] 올인원 패키지 2만원 할인 쿠폰   \n",
       "...                    ...                 ...                        ...   \n",
       "44184  2021-09-25 13:39:26              212000    [미래투자금] 온라인 강의 2만원 할인쿠폰   \n",
       "44185  2021-09-25 13:46:29              149000                        NaN   \n",
       "44186  2021-09-25 14:01:26              159000    [미래투자금] 온라인 강의 2만원 할인쿠폰   \n",
       "44187  2021-09-25 14:17:41               96000  [WELCOME] 온라인 강의 2만원 할인쿠폰   \n",
       "44188  2021-09-25 14:25:47              139000  [WELCOME] 온라인 강의 3만원 할인쿠폰   \n",
       "\n",
       "       coupon_discount_amount  sale_price  tax_free_amount      pg method  \\\n",
       "0                     19090.0    190900.0         190900.0     NaN   CARD   \n",
       "1                     20000.0    117500.0         117500.0     NaN   CARD   \n",
       "2                     20000.0    116000.0         116000.0     NaN   CARD   \n",
       "3                         NaN    263000.0         263000.0     NaN   CARD   \n",
       "4                     20000.0    111000.0         111000.0     NaN   CARD   \n",
       "...                       ...         ...              ...     ...    ...   \n",
       "44184                 20000.0    232000.0         232000.0  INICIS   CARD   \n",
       "44185                     NaN    149000.0         149000.0   KAKAO   CARD   \n",
       "44186                 20000.0    179000.0         179000.0  INICIS   CARD   \n",
       "44187                 20000.0    116000.0         116000.0  INICIS  VBANK   \n",
       "44188                 30000.0    169000.0         169000.0   NAVER  POINT   \n",
       "\n",
       "      subcategory_title   marketing_start_at  \n",
       "0                   NaN  2021-03-04 00:00:00  \n",
       "1               PPT/보고서  2019-11-14 00:00:00  \n",
       "2                 영상 편집  2020-12-02 00:00:00  \n",
       "3                   NaN  2020-11-27 00:00:00  \n",
       "4              프론트엔드 개발  2021-02-02 00:00:00  \n",
       "...                 ...                  ...  \n",
       "44184              디자인툴  2021-04-23 00:00:00  \n",
       "44185             영상 편집  2020-12-02 00:00:00  \n",
       "44186            백엔드 개발  2021-05-31 00:00:00  \n",
       "44187             영상 편집  2021-06-15 00:00:00  \n",
       "44188             영상 편집  2021-08-17 00:00:00  \n",
       "\n",
       "[44189 rows x 18 columns]"
      ]
     },
     "execution_count": 2,
     "metadata": {},
     "output_type": "execute_result"
    }
   ],
   "source": [
    "df"
   ]
  },
  {
   "cell_type": "markdown",
   "id": "48501e90",
   "metadata": {},
   "source": [
    "1. 월별\n",
    "2. 카테고리\n",
    "3. 월별로 카테고리 분석\n",
    "\n",
    "3월 데이터 분석은 하되, 따로 발표때 언급(5일밖에안됨)\n",
    "\n"
   ]
  },
  {
   "cell_type": "code",
   "execution_count": 3,
   "id": "ea93c592",
   "metadata": {},
   "outputs": [
    {
     "name": "stdout",
     "output_type": "stream",
     "text": [
      "<class 'pandas.core.frame.DataFrame'>\n",
      "Int64Index: 44189 entries, 0 to 44188\n",
      "Data columns (total 18 columns):\n",
      " #   Column                  Non-Null Count  Dtype  \n",
      "---  ------                  --------------  -----  \n",
      " 0   id                      44189 non-null  int64  \n",
      " 1   customer_id             44189 non-null  float64\n",
      " 2   course_id               44183 non-null  float64\n",
      " 3   type                    44189 non-null  object \n",
      " 4   state                   44189 non-null  object \n",
      " 5   course_title            44189 non-null  object \n",
      " 6   category_title          44189 non-null  object \n",
      " 7   format                  44189 non-null  object \n",
      " 8   completed_at            44189 non-null  object \n",
      " 9   transaction_amount      44189 non-null  int64  \n",
      " 10  coupon_title            20088 non-null  object \n",
      " 11  coupon_discount_amount  20088 non-null  float64\n",
      " 12  sale_price              44087 non-null  float64\n",
      " 13  tax_free_amount         44087 non-null  float64\n",
      " 14  pg                      40086 non-null  object \n",
      " 15  method                  44189 non-null  object \n",
      " 16  subcategory_title       39960 non-null  object \n",
      " 17  marketing_start_at      39596 non-null  object \n",
      "dtypes: float64(5), int64(2), object(11)\n",
      "memory usage: 6.4+ MB\n"
     ]
    }
   ],
   "source": [
    "df.info()"
   ]
  },
  {
   "cell_type": "code",
   "execution_count": 4,
   "id": "a88d1b7a",
   "metadata": {},
   "outputs": [
    {
     "name": "stdout",
     "output_type": "stream",
     "text": [
      "<class 'pandas.core.series.Series'>\n"
     ]
    }
   ],
   "source": [
    "print(type(df['completed_at']))"
   ]
  },
  {
   "cell_type": "code",
   "execution_count": 5,
   "id": "b864a426",
   "metadata": {},
   "outputs": [],
   "source": [
    "df['completed_at'] = pd.to_datetime(df['completed_at'])"
   ]
  },
  {
   "cell_type": "code",
   "execution_count": 6,
   "id": "01047563",
   "metadata": {},
   "outputs": [
    {
     "name": "stdout",
     "output_type": "stream",
     "text": [
      "<class 'pandas.core.frame.DataFrame'>\n",
      "Int64Index: 44189 entries, 0 to 44188\n",
      "Data columns (total 18 columns):\n",
      " #   Column                  Non-Null Count  Dtype         \n",
      "---  ------                  --------------  -----         \n",
      " 0   id                      44189 non-null  int64         \n",
      " 1   customer_id             44189 non-null  float64       \n",
      " 2   course_id               44183 non-null  float64       \n",
      " 3   type                    44189 non-null  object        \n",
      " 4   state                   44189 non-null  object        \n",
      " 5   course_title            44189 non-null  object        \n",
      " 6   category_title          44189 non-null  object        \n",
      " 7   format                  44189 non-null  object        \n",
      " 8   completed_at            44189 non-null  datetime64[ns]\n",
      " 9   transaction_amount      44189 non-null  int64         \n",
      " 10  coupon_title            20088 non-null  object        \n",
      " 11  coupon_discount_amount  20088 non-null  float64       \n",
      " 12  sale_price              44087 non-null  float64       \n",
      " 13  tax_free_amount         44087 non-null  float64       \n",
      " 14  pg                      40086 non-null  object        \n",
      " 15  method                  44189 non-null  object        \n",
      " 16  subcategory_title       39960 non-null  object        \n",
      " 17  marketing_start_at      39596 non-null  object        \n",
      "dtypes: datetime64[ns](1), float64(5), int64(2), object(10)\n",
      "memory usage: 6.4+ MB\n"
     ]
    }
   ],
   "source": [
    "df.info()"
   ]
  },
  {
   "cell_type": "code",
   "execution_count": 7,
   "id": "caa75ea0",
   "metadata": {},
   "outputs": [
    {
     "data": {
      "text/plain": [
       "(7667, 18)"
      ]
     },
     "execution_count": 7,
     "metadata": {},
     "output_type": "execute_result"
    }
   ],
   "source": [
    "# 5월 데이터\n",
    "target_month = 5\n",
    "df5 = df.query('completed_at.dt.month == @target_month')\n",
    "df5.shape"
   ]
  },
  {
   "cell_type": "code",
   "execution_count": 8,
   "id": "7d7ddf5a",
   "metadata": {},
   "outputs": [
    {
     "data": {
      "text/plain": [
       "(7349, 18)"
      ]
     },
     "execution_count": 8,
     "metadata": {},
     "output_type": "execute_result"
    }
   ],
   "source": [
    "# 6월 데이터\n",
    "target_month = 6\n",
    "df6 = df.query('completed_at.dt.month == @target_month')\n",
    "df6.shape"
   ]
  },
  {
   "cell_type": "code",
   "execution_count": 9,
   "id": "c13741fb",
   "metadata": {},
   "outputs": [
    {
     "data": {
      "text/plain": [
       "id                           0\n",
       "customer_id                  0\n",
       "course_id                    0\n",
       "type                         0\n",
       "state                        0\n",
       "course_title                 0\n",
       "category_title               0\n",
       "format                       0\n",
       "completed_at                 0\n",
       "transaction_amount           0\n",
       "coupon_title              3783\n",
       "coupon_discount_amount    3783\n",
       "sale_price                  25\n",
       "tax_free_amount             25\n",
       "pg                         115\n",
       "method                       0\n",
       "subcategory_title         1999\n",
       "marketing_start_at         785\n",
       "dtype: int64"
      ]
     },
     "execution_count": 9,
     "metadata": {},
     "output_type": "execute_result"
    }
   ],
   "source": [
    "# 1. 결측치 확인\n",
    "\n",
    "df5.isnull().sum()"
   ]
  },
  {
   "cell_type": "code",
   "execution_count": 10,
   "id": "31de9b4f",
   "metadata": {},
   "outputs": [
    {
     "data": {
      "text/plain": [
       "id                           0\n",
       "customer_id                  0\n",
       "course_id                    0\n",
       "type                         0\n",
       "state                        0\n",
       "course_title                 0\n",
       "category_title               0\n",
       "format                       0\n",
       "completed_at                 0\n",
       "transaction_amount           0\n",
       "coupon_title              5807\n",
       "coupon_discount_amount    5807\n",
       "sale_price                  23\n",
       "tax_free_amount             23\n",
       "pg                         149\n",
       "method                       0\n",
       "subcategory_title          589\n",
       "marketing_start_at         657\n",
       "dtype: int64"
      ]
     },
     "execution_count": 10,
     "metadata": {},
     "output_type": "execute_result"
    }
   ],
   "source": [
    "df6.isnull().sum()"
   ]
  },
  {
   "cell_type": "code",
   "execution_count": 11,
   "id": "da59bbc0",
   "metadata": {},
   "outputs": [
    {
     "data": {
      "text/plain": [
       "array(['영상/3D', '프로그래밍', '디자인', '업무 생산성', '크리에이티브', '데이터사이언스', '부동산/금융',\n",
       "       '마케팅', '투자/재테크'], dtype=object)"
      ]
     },
     "execution_count": 11,
     "metadata": {},
     "output_type": "execute_result"
    }
   ],
   "source": [
    "# 2. 카테고리 유니크 확인\n",
    "\n",
    "df5['category_title'].unique()"
   ]
  },
  {
   "cell_type": "code",
   "execution_count": 12,
   "id": "69595087",
   "metadata": {},
   "outputs": [
    {
     "data": {
      "text/plain": [
       "array(['프로그래밍', '영상/3D', '디자인', '부동산/금융', '업무 생산성', '마케팅', '데이터사이언스',\n",
       "       '투자/재테크', '비즈니스', '지식콘텐츠', '크리에이티브'], dtype=object)"
      ]
     },
     "execution_count": 12,
     "metadata": {},
     "output_type": "execute_result"
    }
   ],
   "source": [
    "# 5월에는 없었던 비즈니스, 지식콘텐츠 가 6월에 추가가 됐음\n",
    "df6['category_title'].unique()"
   ]
  },
  {
   "cell_type": "code",
   "execution_count": 13,
   "id": "151a355e",
   "metadata": {},
   "outputs": [
    {
     "data": {
      "text/plain": [
       "array(['올인원', '온라인 완주반', '하루10분컷', '스쿨 온라인', 'RED', '이벤트', '스쿨', '아카이브',\n",
       "       '캠프'], dtype=object)"
      ]
     },
     "execution_count": 13,
     "metadata": {},
     "output_type": "execute_result"
    }
   ],
   "source": [
    "# 올인원과 RED만 있는 줄 알았는데...\n",
    "df5['format'].unique()"
   ]
  },
  {
   "cell_type": "code",
   "execution_count": 14,
   "id": "a174d903",
   "metadata": {},
   "outputs": [
    {
     "data": {
      "text/plain": [
       "array(['올인원', '하루10분컷', '스쿨 온라인', 'RED', '온라인 완주반', 'MBA', '아카이브', '캠프',\n",
       "       '스쿨'], dtype=object)"
      ]
     },
     "execution_count": 14,
     "metadata": {},
     "output_type": "execute_result"
    }
   ],
   "source": [
    "df6['format'].unique()"
   ]
  },
  {
   "cell_type": "code",
   "execution_count": 15,
   "id": "439f57e7",
   "metadata": {},
   "outputs": [],
   "source": [
    "cond1 = (df5.format == '올인원') | (df5.format == 'RED')\n",
    "cond2 = (df6.format == '올인원') | (df6.format == 'RED')"
   ]
  },
  {
   "cell_type": "code",
   "execution_count": 16,
   "id": "258ca037",
   "metadata": {},
   "outputs": [],
   "source": [
    "df5 = df5[cond1]\n",
    "df6 = df6[cond2]"
   ]
  },
  {
   "cell_type": "code",
   "execution_count": 17,
   "id": "a6d26144",
   "metadata": {},
   "outputs": [
    {
     "data": {
      "text/plain": [
       "(5944, 18)"
      ]
     },
     "execution_count": 17,
     "metadata": {},
     "output_type": "execute_result"
    }
   ],
   "source": [
    "df5.shape"
   ]
  },
  {
   "cell_type": "code",
   "execution_count": 18,
   "id": "d2174f71",
   "metadata": {},
   "outputs": [
    {
     "data": {
      "text/plain": [
       "(6833, 18)"
      ]
     },
     "execution_count": 18,
     "metadata": {},
     "output_type": "execute_result"
    }
   ],
   "source": [
    "df6.shape"
   ]
  },
  {
   "cell_type": "code",
   "execution_count": 19,
   "id": "b11245b4",
   "metadata": {},
   "outputs": [
    {
     "data": {
      "text/plain": [
       "array(['올인원', 'RED'], dtype=object)"
      ]
     },
     "execution_count": 19,
     "metadata": {},
     "output_type": "execute_result"
    }
   ],
   "source": [
    "df5['format'].unique()"
   ]
  },
  {
   "cell_type": "code",
   "execution_count": 20,
   "id": "cd3a089a",
   "metadata": {},
   "outputs": [
    {
     "data": {
      "text/plain": [
       "array(['올인원', 'RED'], dtype=object)"
      ]
     },
     "execution_count": 20,
     "metadata": {},
     "output_type": "execute_result"
    }
   ],
   "source": [
    "df6['format'].unique()"
   ]
  },
  {
   "cell_type": "code",
   "execution_count": 21,
   "id": "fa0a6e8d",
   "metadata": {},
   "outputs": [
    {
     "data": {
      "text/plain": [
       "667198935"
      ]
     },
     "execution_count": 21,
     "metadata": {},
     "output_type": "execute_result"
    }
   ],
   "source": [
    "# 월별 당 총 매출\n",
    "df5['transaction_amount'].sum()"
   ]
  },
  {
   "cell_type": "code",
   "execution_count": 22,
   "id": "e1bb58ef",
   "metadata": {},
   "outputs": [
    {
     "data": {
      "text/plain": [
       "801208350"
      ]
     },
     "execution_count": 22,
     "metadata": {},
     "output_type": "execute_result"
    }
   ],
   "source": [
    "# 월별 당 총 매출\n",
    "df6['transaction_amount'].sum()"
   ]
  },
  {
   "cell_type": "code",
   "execution_count": 41,
   "id": "a9561532",
   "metadata": {},
   "outputs": [
    {
     "data": {
      "text/plain": [
       "<AxesSubplot:>"
      ]
     },
     "execution_count": 41,
     "metadata": {},
     "output_type": "execute_result"
    },
    {
     "data": {
      "image/png": "[encoded data removed]",
      "text/plain": [
       "<Figure size 432x288 with 1 Axes>"
      ]
     },
     "metadata": {
      "needs_background": "light"
     },
     "output_type": "display_data"
    }
   ],
   "source": [
    "# 5, 6월 시각화\n",
    "sns.barplot(x = ['5','6'], y = [667198935, 801208350])"
   ]
  },
  {
   "cell_type": "markdown",
   "id": "cb0e38c8",
   "metadata": {},
   "source": [
    "### 6월이 5월 보다 돈을 더 많이 벌었음.\n",
    "\n",
    "5월 : 667198935\n",
    "\n",
    "6월 : 801208350"
   ]
  },
  {
   "cell_type": "code",
   "execution_count": 23,
   "id": "3638192d",
   "metadata": {},
   "outputs": [
    {
     "data": {
      "text/plain": [
       "category_title\n",
       "프로그래밍      2071\n",
       "디자인         788\n",
       "데이터사이언스     787\n",
       "업무 생산성      647\n",
       "영상/3D       608\n",
       "마케팅         565\n",
       "부동산/금융      404\n",
       "투자/재테크       74\n",
       "dtype: int64"
      ]
     },
     "execution_count": 23,
     "metadata": {},
     "output_type": "execute_result"
    }
   ],
   "source": [
    "# 5월별 카테고리별 결제 횟수\n",
    "df5.groupby('category_title').size().sort_values(ascending = False)"
   ]
  },
  {
   "cell_type": "code",
   "execution_count": 24,
   "id": "533cfeba",
   "metadata": {},
   "outputs": [
    {
     "data": {
      "text/plain": [
       "category_title\n",
       "프로그래밍      1970\n",
       "디자인         953\n",
       "데이터사이언스     944\n",
       "마케팅         887\n",
       "영상/3D       845\n",
       "업무 생산성      684\n",
       "부동산/금융      418\n",
       "투자/재테크      132\n",
       "dtype: int64"
      ]
     },
     "execution_count": 24,
     "metadata": {},
     "output_type": "execute_result"
    }
   ],
   "source": [
    "# 6월별 카테고리별 결제 횟수\n",
    "df6.groupby('category_title').size().sort_values(ascending = False)"
   ]
  },
  {
   "cell_type": "code",
   "execution_count": 25,
   "id": "5ce24c6b",
   "metadata": {},
   "outputs": [
    {
     "data": {
      "text/html": [
       "<div>\n",
       "<style scoped>\n",
       "    .dataframe tbody tr th:only-of-type {\n",
       "        vertical-align: middle;\n",
       "    }\n",
       "\n",
       "    .dataframe tbody tr th {\n",
       "        vertical-align: top;\n",
       "    }\n",
       "\n",
       "    .dataframe thead th {\n",
       "        text-align: right;\n",
       "    }\n",
       "</style>\n",
       "<table border=\"1\" class=\"dataframe\">\n",
       "  <thead>\n",
       "    <tr style=\"text-align: right;\">\n",
       "      <th></th>\n",
       "      <th>category</th>\n",
       "      <th>bill</th>\n",
       "    </tr>\n",
       "  </thead>\n",
       "  <tbody>\n",
       "    <tr>\n",
       "      <th>0</th>\n",
       "      <td>데이터사이언스</td>\n",
       "      <td>87699675</td>\n",
       "    </tr>\n",
       "    <tr>\n",
       "      <th>1</th>\n",
       "      <td>디자인</td>\n",
       "      <td>107959350</td>\n",
       "    </tr>\n",
       "    <tr>\n",
       "      <th>2</th>\n",
       "      <td>마케팅</td>\n",
       "      <td>60592475</td>\n",
       "    </tr>\n",
       "    <tr>\n",
       "      <th>3</th>\n",
       "      <td>부동산/금융</td>\n",
       "      <td>67552800</td>\n",
       "    </tr>\n",
       "    <tr>\n",
       "      <th>4</th>\n",
       "      <td>업무 생산성</td>\n",
       "      <td>63943550</td>\n",
       "    </tr>\n",
       "    <tr>\n",
       "      <th>5</th>\n",
       "      <td>영상/3D</td>\n",
       "      <td>66203100</td>\n",
       "    </tr>\n",
       "    <tr>\n",
       "      <th>6</th>\n",
       "      <td>투자/재테크</td>\n",
       "      <td>11430500</td>\n",
       "    </tr>\n",
       "    <tr>\n",
       "      <th>7</th>\n",
       "      <td>프로그래밍</td>\n",
       "      <td>201817485</td>\n",
       "    </tr>\n",
       "  </tbody>\n",
       "</table>\n",
       "</div>"
      ],
      "text/plain": [
       "  category       bill\n",
       "0  데이터사이언스   87699675\n",
       "1      디자인  107959350\n",
       "2      마케팅   60592475\n",
       "3   부동산/금융   67552800\n",
       "4   업무 생산성   63943550\n",
       "5    영상/3D   66203100\n",
       "6   투자/재테크   11430500\n",
       "7    프로그래밍  201817485"
      ]
     },
     "execution_count": 25,
     "metadata": {},
     "output_type": "execute_result"
    }
   ],
   "source": [
    "a_list = df5.groupby('category_title').size().index.tolist()\n",
    "\n",
    "# 5월별 카테고리별 매출\n",
    "bill_list = []\n",
    "for l in a_list:\n",
    "    cond = (df5['category_title'] == l)\n",
    "    temp_df = df5[cond]\n",
    "    bill_list.append(temp_df['transaction_amount'].sum())\n",
    "bill_df5 = pd.DataFrame({'category':a_list,'bill':bill_list})\n",
    "bill_df5"
   ]
  },
  {
   "cell_type": "code",
   "execution_count": 29,
   "id": "edec4bbe",
   "metadata": {},
   "outputs": [],
   "source": [
    "A = bill_df5.sort_values(by='bill', ascending = False)"
   ]
  },
  {
   "cell_type": "code",
   "execution_count": 27,
   "id": "ba447e29",
   "metadata": {},
   "outputs": [
    {
     "data": {
      "text/html": [
       "<div>\n",
       "<style scoped>\n",
       "    .dataframe tbody tr th:only-of-type {\n",
       "        vertical-align: middle;\n",
       "    }\n",
       "\n",
       "    .dataframe tbody tr th {\n",
       "        vertical-align: top;\n",
       "    }\n",
       "\n",
       "    .dataframe thead th {\n",
       "        text-align: right;\n",
       "    }\n",
       "</style>\n",
       "<table border=\"1\" class=\"dataframe\">\n",
       "  <thead>\n",
       "    <tr style=\"text-align: right;\">\n",
       "      <th></th>\n",
       "      <th>category</th>\n",
       "      <th>bill</th>\n",
       "    </tr>\n",
       "  </thead>\n",
       "  <tbody>\n",
       "    <tr>\n",
       "      <th>0</th>\n",
       "      <td>데이터사이언스</td>\n",
       "      <td>100222050</td>\n",
       "    </tr>\n",
       "    <tr>\n",
       "      <th>1</th>\n",
       "      <td>디자인</td>\n",
       "      <td>130465300</td>\n",
       "    </tr>\n",
       "    <tr>\n",
       "      <th>2</th>\n",
       "      <td>마케팅</td>\n",
       "      <td>110173700</td>\n",
       "    </tr>\n",
       "    <tr>\n",
       "      <th>3</th>\n",
       "      <td>부동산/금융</td>\n",
       "      <td>78832200</td>\n",
       "    </tr>\n",
       "    <tr>\n",
       "      <th>4</th>\n",
       "      <td>업무 생산성</td>\n",
       "      <td>71748200</td>\n",
       "    </tr>\n",
       "    <tr>\n",
       "      <th>5</th>\n",
       "      <td>영상/3D</td>\n",
       "      <td>89729800</td>\n",
       "    </tr>\n",
       "    <tr>\n",
       "      <th>6</th>\n",
       "      <td>투자/재테크</td>\n",
       "      <td>31071800</td>\n",
       "    </tr>\n",
       "    <tr>\n",
       "      <th>7</th>\n",
       "      <td>프로그래밍</td>\n",
       "      <td>188965300</td>\n",
       "    </tr>\n",
       "  </tbody>\n",
       "</table>\n",
       "</div>"
      ],
      "text/plain": [
       "  category       bill\n",
       "0  데이터사이언스  100222050\n",
       "1      디자인  130465300\n",
       "2      마케팅  110173700\n",
       "3   부동산/금융   78832200\n",
       "4   업무 생산성   71748200\n",
       "5    영상/3D   89729800\n",
       "6   투자/재테크   31071800\n",
       "7    프로그래밍  188965300"
      ]
     },
     "execution_count": 27,
     "metadata": {},
     "output_type": "execute_result"
    }
   ],
   "source": [
    "b_list = df6.groupby('category_title').size().index.tolist()\n",
    "\n",
    "# 6월별 카테고리별 매출\n",
    "bill_list = []\n",
    "for l in a_list:\n",
    "    cond = (df6['category_title'] == l)\n",
    "    temp_df = df6[cond]\n",
    "    bill_list.append(temp_df['transaction_amount'].sum())\n",
    "bill_df6 = pd.DataFrame({'category':a_list,'bill':bill_list})\n",
    "bill_df6"
   ]
  },
  {
   "cell_type": "code",
   "execution_count": 30,
   "id": "a0b59ba0",
   "metadata": {},
   "outputs": [],
   "source": [
    "B = bill_df6.sort_values(by='bill', ascending = False)"
   ]
  },
  {
   "cell_type": "code",
   "execution_count": 38,
   "id": "4c406042",
   "metadata": {},
   "outputs": [
    {
     "data": {
      "text/plain": [
       "<AxesSubplot:xlabel='category', ylabel='bill'>"
      ]
     },
     "execution_count": 38,
     "metadata": {},
     "output_type": "execute_result"
    },
    {
     "data": {
      "image/png": "[encoded data removed]",
      "text/plain": [
       "<Figure size 432x288 with 1 Axes>"
      ]
     },
     "metadata": {
      "needs_background": "light"
     },
     "output_type": "display_data"
    }
   ],
   "source": [
    "# 5월 시각화\n",
    "sns.barplot(x = A['category'], y = A.bill)"
   ]
  },
  {
   "cell_type": "code",
   "execution_count": 39,
   "id": "aa9c03a8",
   "metadata": {
    "scrolled": true
   },
   "outputs": [
    {
     "data": {
      "text/plain": [
       "<AxesSubplot:xlabel='category', ylabel='bill'>"
      ]
     },
     "execution_count": 39,
     "metadata": {},
     "output_type": "execute_result"
    },
    {
     "data": {
      "image/png": "[encoded data removed]",
      "text/plain": [
       "<Figure size 432x288 with 1 Axes>"
      ]
     },
     "metadata": {
      "needs_background": "light"
     },
     "output_type": "display_data"
    }
   ],
   "source": [
    "# 6월 시각화\n",
    "sns.barplot(x = B['category'], y = B.bill)"
   ]
  },
  {
   "cell_type": "code",
   "execution_count": 42,
   "id": "fe63db77",
   "metadata": {
    "scrolled": true
   },
   "outputs": [
    {
     "data": {
      "text/plain": [
       "subcategory_title\n",
       "프론트엔드 개발     519\n",
       "백엔드 개발       469\n",
       "영상 편집        436\n",
       "개발자 커리어      421\n",
       "디자인툴         352\n",
       "딥러닝/인공지능     317\n",
       "데이터분석        280\n",
       "PPT/보고서      275\n",
       "데이터마케팅       262\n",
       "모바일앱         252\n",
       "엑셀/VBA       222\n",
       "UX/UI        203\n",
       "금융/투자 실무     179\n",
       "모션그래픽        172\n",
       "시각디자인        153\n",
       "디지털마케팅       123\n",
       "글쓰기/카피라이팅    120\n",
       "회계/재무/세무     118\n",
       "머신러닝         118\n",
       "부동산 개발       107\n",
       "게임            97\n",
       "DevOps        97\n",
       "업무자동화         82\n",
       "일러스트          80\n",
       "부동산 투자        58\n",
       "SNS마케팅        56\n",
       "코딩 입문         36\n",
       "리더십           34\n",
       "주식 투자         16\n",
       "커뮤니케이션        14\n",
       "dtype: int64"
      ]
     },
     "execution_count": 42,
     "metadata": {},
     "output_type": "execute_result"
    }
   ],
   "source": [
    "# 5월별 서브 카테고리별 결제 횟수\n",
    "df5.groupby('subcategory_title').size().sort_values(ascending = False)"
   ]
  },
  {
   "cell_type": "code",
   "execution_count": 91,
   "id": "745bb5e0",
   "metadata": {},
   "outputs": [
    {
     "data": {
      "text/plain": [
       "(30,)"
      ]
     },
     "execution_count": 91,
     "metadata": {},
     "output_type": "execute_result"
    }
   ],
   "source": [
    "df5.subcategory_title.unique().shape\n",
    "df6.subcategory_title.unique().shape"
   ]
  },
  {
   "cell_type": "code",
   "execution_count": 48,
   "id": "15ec43fd",
   "metadata": {},
   "outputs": [],
   "source": [
    "C = df5.groupby('subcategory_title').size().sort_values(ascending = False)[:10]\n",
    "C = pd.DataFrame(C)"
   ]
  },
  {
   "cell_type": "code",
   "execution_count": 43,
   "id": "e4a119a4",
   "metadata": {
    "scrolled": true
   },
   "outputs": [
    {
     "data": {
      "text/plain": [
       "subcategory_title\n",
       "영상 편집        665\n",
       "데이터분석        495\n",
       "글쓰기/카피라이팅    482\n",
       "백엔드 개발       482\n",
       "개발자 커리어      441\n",
       "PPT/보고서      417\n",
       "프론트엔드 개발     382\n",
       "디자인툴         321\n",
       "딥러닝/인공지능     287\n",
       "UX/UI        276\n",
       "일러스트         261\n",
       "모바일앱         260\n",
       "회계/재무/세무     221\n",
       "모션그래픽        177\n",
       "게임           176\n",
       "데이터마케팅       173\n",
       "머신러닝         162\n",
       "엑셀/VBA       141\n",
       "디지털마케팅       140\n",
       "DevOps       125\n",
       "금융/투자 실무     106\n",
       "시각디자인         95\n",
       "부동산 개발        91\n",
       "업무자동화         87\n",
       "SNS마케팅        86\n",
       "주식 투자         85\n",
       "부동산 투자        47\n",
       "코딩 입문         37\n",
       "리더십           27\n",
       "커뮤니케이션        12\n",
       "게임 그래픽         3\n",
       "dtype: int64"
      ]
     },
     "execution_count": 43,
     "metadata": {},
     "output_type": "execute_result"
    }
   ],
   "source": [
    "# 6월별 서브 카테고리별 결제 횟수\n",
    "df6.groupby('subcategory_title').size().sort_values(ascending = False)"
   ]
  },
  {
   "cell_type": "code",
   "execution_count": 66,
   "id": "b47def45",
   "metadata": {},
   "outputs": [],
   "source": [
    "D = df6.groupby('subcategory_title').size().sort_values(ascending = False)[:10]\n",
    "D = pd.DataFrame(D)"
   ]
  },
  {
   "cell_type": "code",
   "execution_count": 67,
   "id": "96bd8c51",
   "metadata": {},
   "outputs": [
    {
     "data": {
      "text/plain": [
       "<AxesSubplot:xlabel='subcategory_title', ylabel='0'>"
      ]
     },
     "execution_count": 67,
     "metadata": {},
     "output_type": "execute_result"
    },
    {
     "data": {
      "image/png": "[encoded data removed]",
      "text/plain": [
       "<Figure size 1080x576 with 1 Axes>"
      ]
     },
     "metadata": {
      "needs_background": "light"
     },
     "output_type": "display_data"
    }
   ],
   "source": [
    "# 5월 시각화\n",
    "plt.figure(figsize = (15,8))\n",
    "sns.barplot(x = C.index, y = C[0])"
   ]
  },
  {
   "cell_type": "code",
   "execution_count": 68,
   "id": "f4f8100a",
   "metadata": {},
   "outputs": [
    {
     "data": {
      "text/plain": [
       "<AxesSubplot:xlabel='subcategory_title', ylabel='0'>"
      ]
     },
     "execution_count": 68,
     "metadata": {},
     "output_type": "execute_result"
    },
    {
     "data": {
      "image/png": "[encoded data removed]",
      "text/plain": [
       "<Figure size 1080x576 with 1 Axes>"
      ]
     },
     "metadata": {
      "needs_background": "light"
     },
     "output_type": "display_data"
    }
   ],
   "source": [
    "# 6월 시각화\n",
    "plt.figure(figsize = (15,8))\n",
    "sns.barplot(x = D.index, y = D[0])"
   ]
  },
  {
   "cell_type": "code",
   "execution_count": 72,
   "id": "292338e0",
   "metadata": {},
   "outputs": [
    {
     "data": {
      "text/plain": [
       "68637565.0"
      ]
     },
     "execution_count": 72,
     "metadata": {},
     "output_type": "execute_result"
    }
   ],
   "source": [
    "# 5월 할인 받은 총 금액\n",
    "df5['coupon_discount_amount'].sum()"
   ]
  },
  {
   "cell_type": "code",
   "execution_count": 73,
   "id": "ba0d66c3",
   "metadata": {},
   "outputs": [
    {
     "data": {
      "text/plain": [
       "79292400.0"
      ]
     },
     "execution_count": 73,
     "metadata": {},
     "output_type": "execute_result"
    }
   ],
   "source": [
    "# 6월 할인 받은 총 금액\n",
    "df6['coupon_discount_amount'].sum()"
   ]
  },
  {
   "cell_type": "code",
   "execution_count": 75,
   "id": "6a4fd13d",
   "metadata": {},
   "outputs": [
    {
     "data": {
      "text/plain": [
       "<AxesSubplot:>"
      ]
     },
     "execution_count": 75,
     "metadata": {},
     "output_type": "execute_result"
    },
    {
     "data": {
      "image/png": "[encoded data removed]",
      "text/plain": [
       "<Figure size 432x288 with 1 Axes>"
      ]
     },
     "metadata": {
      "needs_background": "light"
     },
     "output_type": "display_data"
    }
   ],
   "source": [
    "# 5,6월 할인 받은 총 금액 시각화\n",
    "sns.barplot(x = ['5','6'], y = [68637565, 79292400])"
   ]
  },
  {
   "cell_type": "code",
   "execution_count": 78,
   "id": "95542057",
   "metadata": {
    "scrolled": true
   },
   "outputs": [
    {
     "data": {
      "text/plain": [
       "<AxesSubplot:>"
      ]
     },
     "execution_count": 78,
     "metadata": {},
     "output_type": "execute_result"
    },
    {
     "data": {
      "image/png": "[encoded data removed]",
      "text/plain": [
       "<Figure size 432x288 with 1 Axes>"
      ]
     },
     "metadata": {
      "needs_background": "light"
     },
     "output_type": "display_data"
    }
   ],
   "source": [
    "# 그러면 5,6월 평균적으로 몇퍼센트씩 할인 받았을까?\n",
    "\n",
    "# 5,6월 할인 받은 퍼센트 시각화\n",
    "sns.barplot(x = ['5','6'], y = [68637565/667198935 * 100, 79292400/ 801208350 * 100])"
   ]
  },
  {
   "cell_type": "markdown",
   "id": "98996592",
   "metadata": {},
   "source": [
    "### 오히려 평균적으로 할인 받은 퍼센트는 5월이 더 컸음 (유의미하지는 않음) \n",
    "- 사람들 평균적으로 10%씩은 할인받고 샀음"
   ]
  },
  {
   "cell_type": "code",
   "execution_count": 83,
   "id": "bc5c3b2c",
   "metadata": {},
   "outputs": [
    {
     "data": {
      "text/plain": [
       "2738"
      ]
     },
     "execution_count": 83,
     "metadata": {},
     "output_type": "execute_result"
    }
   ],
   "source": [
    "# 웰컴쿠폰을 쓴 5월달 사람 수\n",
    "df5 = df5.dropna(axis=0)\n",
    "df5[df5.coupon_title.str.contains('웰컴쿠폰')].shape[0]"
   ]
  },
  {
   "cell_type": "code",
   "execution_count": 84,
   "id": "63aea066",
   "metadata": {},
   "outputs": [
    {
     "data": {
      "text/plain": [
       "1"
      ]
     },
     "execution_count": 84,
     "metadata": {},
     "output_type": "execute_result"
    }
   ],
   "source": [
    "# 웰컴쿠폰을 쓴 6월달 사람 수\n",
    "df6 = df6.dropna(axis=0)\n",
    "df6[df6.coupon_title.str.contains('웰컴쿠폰')].shape[0]"
   ]
  },
  {
   "cell_type": "code",
   "execution_count": 87,
   "id": "e95f4d2d",
   "metadata": {},
   "outputs": [
    {
     "data": {
      "text/html": [
       "<div>\n",
       "<style scoped>\n",
       "    .dataframe tbody tr th:only-of-type {\n",
       "        vertical-align: middle;\n",
       "    }\n",
       "\n",
       "    .dataframe tbody tr th {\n",
       "        vertical-align: top;\n",
       "    }\n",
       "\n",
       "    .dataframe thead th {\n",
       "        text-align: right;\n",
       "    }\n",
       "</style>\n",
       "<table border=\"1\" class=\"dataframe\">\n",
       "  <thead>\n",
       "    <tr style=\"text-align: right;\">\n",
       "      <th></th>\n",
       "      <th>id</th>\n",
       "      <th>customer_id</th>\n",
       "      <th>course_id</th>\n",
       "      <th>type</th>\n",
       "      <th>state</th>\n",
       "      <th>course_title</th>\n",
       "      <th>category_title</th>\n",
       "      <th>format</th>\n",
       "      <th>completed_at</th>\n",
       "      <th>transaction_amount</th>\n",
       "      <th>coupon_title</th>\n",
       "      <th>coupon_discount_amount</th>\n",
       "      <th>sale_price</th>\n",
       "      <th>tax_free_amount</th>\n",
       "      <th>pg</th>\n",
       "      <th>method</th>\n",
       "      <th>subcategory_title</th>\n",
       "      <th>marketing_start_at</th>\n",
       "    </tr>\n",
       "  </thead>\n",
       "  <tbody>\n",
       "    <tr>\n",
       "      <th>16974</th>\n",
       "      <td>1114287</td>\n",
       "      <td>548090.0</td>\n",
       "      <td>203720.0</td>\n",
       "      <td>PAYMENT</td>\n",
       "      <td>COMPLETED</td>\n",
       "      <td>초격차 패키지 : 한 번에 끝내는 프론트엔드 개발</td>\n",
       "      <td>프로그래밍</td>\n",
       "      <td>올인원</td>\n",
       "      <td>2021-06-01 00:01:34</td>\n",
       "      <td>95000</td>\n",
       "      <td>[웰컴쿠폰] 올인원 패키지 2만원 할인 쿠폰</td>\n",
       "      <td>20000.0</td>\n",
       "      <td>115000.0</td>\n",
       "      <td>115000.0</td>\n",
       "      <td>INICIS</td>\n",
       "      <td>CARD</td>\n",
       "      <td>프론트엔드 개발</td>\n",
       "      <td>2021-02-02 00:00:00</td>\n",
       "    </tr>\n",
       "    <tr>\n",
       "      <th>16977</th>\n",
       "      <td>1114322</td>\n",
       "      <td>15463.0</td>\n",
       "      <td>203935.0</td>\n",
       "      <td>PAYMENT</td>\n",
       "      <td>COMPLETED</td>\n",
       "      <td>초격차 패키지 : 한 번에 끝내는 파이썬 웹 개발</td>\n",
       "      <td>프로그래밍</td>\n",
       "      <td>올인원</td>\n",
       "      <td>2021-06-01 00:31:47</td>\n",
       "      <td>69300</td>\n",
       "      <td>[특별쿠폰] 올인원 패키지 : 파이썬 웹 개발 구매자</td>\n",
       "      <td>29700.0</td>\n",
       "      <td>99000.0</td>\n",
       "      <td>99000.0</td>\n",
       "      <td>INICIS</td>\n",
       "      <td>CARD</td>\n",
       "      <td>백엔드 개발</td>\n",
       "      <td>2021-05-31 00:00:00</td>\n",
       "    </tr>\n",
       "    <tr>\n",
       "      <th>16987</th>\n",
       "      <td>1114486</td>\n",
       "      <td>85150.0</td>\n",
       "      <td>203935.0</td>\n",
       "      <td>PAYMENT</td>\n",
       "      <td>COMPLETED</td>\n",
       "      <td>초격차 패키지 : 한 번에 끝내는 파이썬 웹 개발</td>\n",
       "      <td>프로그래밍</td>\n",
       "      <td>올인원</td>\n",
       "      <td>2021-06-01 09:18:38</td>\n",
       "      <td>69300</td>\n",
       "      <td>[특별쿠폰] 올인원 패키지 : 파이썬 웹 개발 구매자</td>\n",
       "      <td>29700.0</td>\n",
       "      <td>99000.0</td>\n",
       "      <td>99000.0</td>\n",
       "      <td>INICIS</td>\n",
       "      <td>CARD</td>\n",
       "      <td>백엔드 개발</td>\n",
       "      <td>2021-05-31 00:00:00</td>\n",
       "    </tr>\n",
       "    <tr>\n",
       "      <th>16992</th>\n",
       "      <td>1114514</td>\n",
       "      <td>15106.0</td>\n",
       "      <td>203935.0</td>\n",
       "      <td>PAYMENT</td>\n",
       "      <td>COMPLETED</td>\n",
       "      <td>초격차 패키지 : 한 번에 끝내는 파이썬 웹 개발</td>\n",
       "      <td>프로그래밍</td>\n",
       "      <td>올인원</td>\n",
       "      <td>2021-06-01 09:36:43</td>\n",
       "      <td>69300</td>\n",
       "      <td>[특별쿠폰] 올인원 패키지 : 파이썬 웹 개발 구매자</td>\n",
       "      <td>29700.0</td>\n",
       "      <td>99000.0</td>\n",
       "      <td>99000.0</td>\n",
       "      <td>INICIS</td>\n",
       "      <td>CARD</td>\n",
       "      <td>백엔드 개발</td>\n",
       "      <td>2021-05-31 00:00:00</td>\n",
       "    </tr>\n",
       "    <tr>\n",
       "      <th>16994</th>\n",
       "      <td>1114533</td>\n",
       "      <td>43690.0</td>\n",
       "      <td>203935.0</td>\n",
       "      <td>PAYMENT</td>\n",
       "      <td>COMPLETED</td>\n",
       "      <td>초격차 패키지 : 한 번에 끝내는 파이썬 웹 개발</td>\n",
       "      <td>프로그래밍</td>\n",
       "      <td>올인원</td>\n",
       "      <td>2021-06-01 09:52:34</td>\n",
       "      <td>69300</td>\n",
       "      <td>[특별쿠폰] 올인원 패키지 : 파이썬 웹 개발 구매자</td>\n",
       "      <td>29700.0</td>\n",
       "      <td>99000.0</td>\n",
       "      <td>99000.0</td>\n",
       "      <td>INICIS</td>\n",
       "      <td>CARD</td>\n",
       "      <td>백엔드 개발</td>\n",
       "      <td>2021-05-31 00:00:00</td>\n",
       "    </tr>\n",
       "    <tr>\n",
       "      <th>...</th>\n",
       "      <td>...</td>\n",
       "      <td>...</td>\n",
       "      <td>...</td>\n",
       "      <td>...</td>\n",
       "      <td>...</td>\n",
       "      <td>...</td>\n",
       "      <td>...</td>\n",
       "      <td>...</td>\n",
       "      <td>...</td>\n",
       "      <td>...</td>\n",
       "      <td>...</td>\n",
       "      <td>...</td>\n",
       "      <td>...</td>\n",
       "      <td>...</td>\n",
       "      <td>...</td>\n",
       "      <td>...</td>\n",
       "      <td>...</td>\n",
       "      <td>...</td>\n",
       "    </tr>\n",
       "    <tr>\n",
       "      <th>24208</th>\n",
       "      <td>1183953</td>\n",
       "      <td>405491.0</td>\n",
       "      <td>205625.0</td>\n",
       "      <td>PAYMENT</td>\n",
       "      <td>COMPLETED</td>\n",
       "      <td>초격차 패키지 : 세상의 모든 감성 아이패드 드로잉</td>\n",
       "      <td>디자인</td>\n",
       "      <td>올인원</td>\n",
       "      <td>2021-06-30 23:27:49</td>\n",
       "      <td>154000</td>\n",
       "      <td>아이패드드로잉 5000원 반짝 할인쿠폰</td>\n",
       "      <td>5000.0</td>\n",
       "      <td>159000.0</td>\n",
       "      <td>159000.0</td>\n",
       "      <td>NAVER</td>\n",
       "      <td>CARD</td>\n",
       "      <td>일러스트</td>\n",
       "      <td>2021-06-29 00:00:00</td>\n",
       "    </tr>\n",
       "    <tr>\n",
       "      <th>24212</th>\n",
       "      <td>1183969</td>\n",
       "      <td>274795.0</td>\n",
       "      <td>205365.0</td>\n",
       "      <td>PAYMENT</td>\n",
       "      <td>COMPLETED</td>\n",
       "      <td>초격차 패키지 : 한 번에 끝내는 유튜브 크리에이터 되기</td>\n",
       "      <td>영상/3D</td>\n",
       "      <td>올인원</td>\n",
       "      <td>2021-06-30 23:29:02</td>\n",
       "      <td>59000</td>\n",
       "      <td>[할인쿠폰] 영상/디자인 카테고리 올인원 패키지 5만원 할인_영상 오픈 일정 변경</td>\n",
       "      <td>50000.0</td>\n",
       "      <td>109000.0</td>\n",
       "      <td>109000.0</td>\n",
       "      <td>INICIS</td>\n",
       "      <td>CARD</td>\n",
       "      <td>영상 편집</td>\n",
       "      <td>2021-06-15 00:00:00</td>\n",
       "    </tr>\n",
       "    <tr>\n",
       "      <th>24276</th>\n",
       "      <td>1184430</td>\n",
       "      <td>390054.0</td>\n",
       "      <td>205548.0</td>\n",
       "      <td>PAYMENT</td>\n",
       "      <td>COMPLETED</td>\n",
       "      <td>초격차 패키지 : 한 번에 끝내는 데이터 분석</td>\n",
       "      <td>데이터사이언스</td>\n",
       "      <td>올인원</td>\n",
       "      <td>2021-06-30 23:49:07</td>\n",
       "      <td>71200</td>\n",
       "      <td>[20%할인]데이터 분석 초격차 패키지</td>\n",
       "      <td>35600.0</td>\n",
       "      <td>89000.0</td>\n",
       "      <td>89000.0</td>\n",
       "      <td>PAYCO</td>\n",
       "      <td>CARD</td>\n",
       "      <td>데이터분석</td>\n",
       "      <td>2021-06-17 00:00:00</td>\n",
       "    </tr>\n",
       "    <tr>\n",
       "      <th>24288</th>\n",
       "      <td>1184511</td>\n",
       "      <td>390054.0</td>\n",
       "      <td>203935.0</td>\n",
       "      <td>PAYMENT</td>\n",
       "      <td>COMPLETED</td>\n",
       "      <td>초격차 패키지 : 한 번에 끝내는 파이썬 웹 개발</td>\n",
       "      <td>프로그래밍</td>\n",
       "      <td>올인원</td>\n",
       "      <td>2021-06-30 23:51:48</td>\n",
       "      <td>69300</td>\n",
       "      <td>[특별쿠폰] 올인원 패키지 : 파이썬 웹 개발 구매자</td>\n",
       "      <td>59400.0</td>\n",
       "      <td>99000.0</td>\n",
       "      <td>99000.0</td>\n",
       "      <td>PAYCO</td>\n",
       "      <td>CARD</td>\n",
       "      <td>백엔드 개발</td>\n",
       "      <td>2021-05-31 00:00:00</td>\n",
       "    </tr>\n",
       "    <tr>\n",
       "      <th>24315</th>\n",
       "      <td>1184719</td>\n",
       "      <td>162948.0</td>\n",
       "      <td>205162.0</td>\n",
       "      <td>PAYMENT</td>\n",
       "      <td>COMPLETED</td>\n",
       "      <td>올인원 패키지 : 아카데미 : 편집하는여자의 영상편집 마스터클래스 - 제 1강 프리...</td>\n",
       "      <td>영상/3D</td>\n",
       "      <td>올인원</td>\n",
       "      <td>2021-06-30 23:58:15</td>\n",
       "      <td>78400</td>\n",
       "      <td>[시크릿쿠폰] 편집하는여자 20% 할인쿠폰</td>\n",
       "      <td>39200.0</td>\n",
       "      <td>98000.0</td>\n",
       "      <td>98000.0</td>\n",
       "      <td>INICIS</td>\n",
       "      <td>CARD</td>\n",
       "      <td>영상 편집</td>\n",
       "      <td>2021-06-03 00:00:00</td>\n",
       "    </tr>\n",
       "  </tbody>\n",
       "</table>\n",
       "<p>1171 rows × 18 columns</p>\n",
       "</div>"
      ],
      "text/plain": [
       "            id  customer_id  course_id     type      state  \\\n",
       "16974  1114287     548090.0   203720.0  PAYMENT  COMPLETED   \n",
       "16977  1114322      15463.0   203935.0  PAYMENT  COMPLETED   \n",
       "16987  1114486      85150.0   203935.0  PAYMENT  COMPLETED   \n",
       "16992  1114514      15106.0   203935.0  PAYMENT  COMPLETED   \n",
       "16994  1114533      43690.0   203935.0  PAYMENT  COMPLETED   \n",
       "...        ...          ...        ...      ...        ...   \n",
       "24208  1183953     405491.0   205625.0  PAYMENT  COMPLETED   \n",
       "24212  1183969     274795.0   205365.0  PAYMENT  COMPLETED   \n",
       "24276  1184430     390054.0   205548.0  PAYMENT  COMPLETED   \n",
       "24288  1184511     390054.0   203935.0  PAYMENT  COMPLETED   \n",
       "24315  1184719     162948.0   205162.0  PAYMENT  COMPLETED   \n",
       "\n",
       "                                            course_title category_title  \\\n",
       "16974                        초격차 패키지 : 한 번에 끝내는 프론트엔드 개발          프로그래밍   \n",
       "16977                        초격차 패키지 : 한 번에 끝내는 파이썬 웹 개발          프로그래밍   \n",
       "16987                        초격차 패키지 : 한 번에 끝내는 파이썬 웹 개발          프로그래밍   \n",
       "16992                        초격차 패키지 : 한 번에 끝내는 파이썬 웹 개발          프로그래밍   \n",
       "16994                        초격차 패키지 : 한 번에 끝내는 파이썬 웹 개발          프로그래밍   \n",
       "...                                                  ...            ...   \n",
       "24208                       초격차 패키지 : 세상의 모든 감성 아이패드 드로잉            디자인   \n",
       "24212                    초격차 패키지 : 한 번에 끝내는 유튜브 크리에이터 되기          영상/3D   \n",
       "24276                          초격차 패키지 : 한 번에 끝내는 데이터 분석        데이터사이언스   \n",
       "24288                        초격차 패키지 : 한 번에 끝내는 파이썬 웹 개발          프로그래밍   \n",
       "24315  올인원 패키지 : 아카데미 : 편집하는여자의 영상편집 마스터클래스 - 제 1강 프리...          영상/3D   \n",
       "\n",
       "      format        completed_at  transaction_amount  \\\n",
       "16974    올인원 2021-06-01 00:01:34               95000   \n",
       "16977    올인원 2021-06-01 00:31:47               69300   \n",
       "16987    올인원 2021-06-01 09:18:38               69300   \n",
       "16992    올인원 2021-06-01 09:36:43               69300   \n",
       "16994    올인원 2021-06-01 09:52:34               69300   \n",
       "...      ...                 ...                 ...   \n",
       "24208    올인원 2021-06-30 23:27:49              154000   \n",
       "24212    올인원 2021-06-30 23:29:02               59000   \n",
       "24276    올인원 2021-06-30 23:49:07               71200   \n",
       "24288    올인원 2021-06-30 23:51:48               69300   \n",
       "24315    올인원 2021-06-30 23:58:15               78400   \n",
       "\n",
       "                                        coupon_title  coupon_discount_amount  \\\n",
       "16974                       [웰컴쿠폰] 올인원 패키지 2만원 할인 쿠폰                 20000.0   \n",
       "16977                  [특별쿠폰] 올인원 패키지 : 파이썬 웹 개발 구매자                 29700.0   \n",
       "16987                  [특별쿠폰] 올인원 패키지 : 파이썬 웹 개발 구매자                 29700.0   \n",
       "16992                  [특별쿠폰] 올인원 패키지 : 파이썬 웹 개발 구매자                 29700.0   \n",
       "16994                  [특별쿠폰] 올인원 패키지 : 파이썬 웹 개발 구매자                 29700.0   \n",
       "...                                              ...                     ...   \n",
       "24208                          아이패드드로잉 5000원 반짝 할인쿠폰                  5000.0   \n",
       "24212  [할인쿠폰] 영상/디자인 카테고리 올인원 패키지 5만원 할인_영상 오픈 일정 변경                 50000.0   \n",
       "24276                          [20%할인]데이터 분석 초격차 패키지                 35600.0   \n",
       "24288                  [특별쿠폰] 올인원 패키지 : 파이썬 웹 개발 구매자                 59400.0   \n",
       "24315                        [시크릿쿠폰] 편집하는여자 20% 할인쿠폰                 39200.0   \n",
       "\n",
       "       sale_price  tax_free_amount      pg method subcategory_title  \\\n",
       "16974    115000.0         115000.0  INICIS   CARD          프론트엔드 개발   \n",
       "16977     99000.0          99000.0  INICIS   CARD            백엔드 개발   \n",
       "16987     99000.0          99000.0  INICIS   CARD            백엔드 개발   \n",
       "16992     99000.0          99000.0  INICIS   CARD            백엔드 개발   \n",
       "16994     99000.0          99000.0  INICIS   CARD            백엔드 개발   \n",
       "...           ...              ...     ...    ...               ...   \n",
       "24208    159000.0         159000.0   NAVER   CARD              일러스트   \n",
       "24212    109000.0         109000.0  INICIS   CARD             영상 편집   \n",
       "24276     89000.0          89000.0   PAYCO   CARD             데이터분석   \n",
       "24288     99000.0          99000.0   PAYCO   CARD            백엔드 개발   \n",
       "24315     98000.0          98000.0  INICIS   CARD             영상 편집   \n",
       "\n",
       "        marketing_start_at  \n",
       "16974  2021-02-02 00:00:00  \n",
       "16977  2021-05-31 00:00:00  \n",
       "16987  2021-05-31 00:00:00  \n",
       "16992  2021-05-31 00:00:00  \n",
       "16994  2021-05-31 00:00:00  \n",
       "...                    ...  \n",
       "24208  2021-06-29 00:00:00  \n",
       "24212  2021-06-15 00:00:00  \n",
       "24276  2021-06-17 00:00:00  \n",
       "24288  2021-05-31 00:00:00  \n",
       "24315  2021-06-03 00:00:00  \n",
       "\n",
       "[1171 rows x 18 columns]"
      ]
     },
     "execution_count": 87,
     "metadata": {},
     "output_type": "execute_result"
    }
   ],
   "source": [
    "df6"
   ]
  },
  {
   "cell_type": "code",
   "execution_count": 88,
   "id": "96fdd584",
   "metadata": {},
   "outputs": [
    {
     "data": {
      "text/html": [
       "<div>\n",
       "<style scoped>\n",
       "    .dataframe tbody tr th:only-of-type {\n",
       "        vertical-align: middle;\n",
       "    }\n",
       "\n",
       "    .dataframe tbody tr th {\n",
       "        vertical-align: top;\n",
       "    }\n",
       "\n",
       "    .dataframe thead th {\n",
       "        text-align: right;\n",
       "    }\n",
       "</style>\n",
       "<table border=\"1\" class=\"dataframe\">\n",
       "  <thead>\n",
       "    <tr style=\"text-align: right;\">\n",
       "      <th></th>\n",
       "      <th>id</th>\n",
       "      <th>customer_id</th>\n",
       "      <th>course_id</th>\n",
       "      <th>type</th>\n",
       "      <th>state</th>\n",
       "      <th>course_title</th>\n",
       "      <th>category_title</th>\n",
       "      <th>format</th>\n",
       "      <th>completed_at</th>\n",
       "      <th>transaction_amount</th>\n",
       "      <th>coupon_title</th>\n",
       "      <th>coupon_discount_amount</th>\n",
       "      <th>sale_price</th>\n",
       "      <th>tax_free_amount</th>\n",
       "      <th>pg</th>\n",
       "      <th>method</th>\n",
       "      <th>subcategory_title</th>\n",
       "      <th>marketing_start_at</th>\n",
       "    </tr>\n",
       "  </thead>\n",
       "  <tbody>\n",
       "    <tr>\n",
       "      <th>9307</th>\n",
       "      <td>1046648</td>\n",
       "      <td>510126.0</td>\n",
       "      <td>202521.0</td>\n",
       "      <td>PAYMENT</td>\n",
       "      <td>COMPLETED</td>\n",
       "      <td>올인원 패키지 : 다빈치리졸브로 배우는 영상 색 보정 A to Z</td>\n",
       "      <td>영상/3D</td>\n",
       "      <td>올인원</td>\n",
       "      <td>2021-05-01 00:13:46</td>\n",
       "      <td>91500</td>\n",
       "      <td>[럭키룰렛] 올인원패키지</td>\n",
       "      <td>20000.0</td>\n",
       "      <td>111500.0</td>\n",
       "      <td>111500.0</td>\n",
       "      <td>INICIS</td>\n",
       "      <td>VBANK</td>\n",
       "      <td>영상 편집</td>\n",
       "      <td>2020-03-24 00:00:00</td>\n",
       "    </tr>\n",
       "    <tr>\n",
       "      <th>9308</th>\n",
       "      <td>1046657</td>\n",
       "      <td>515146.0</td>\n",
       "      <td>202698.0</td>\n",
       "      <td>PAYMENT</td>\n",
       "      <td>COMPLETED</td>\n",
       "      <td>합격 패스 : 데이터베이스와 SQLD</td>\n",
       "      <td>프로그래밍</td>\n",
       "      <td>올인원</td>\n",
       "      <td>2021-05-01 00:14:29</td>\n",
       "      <td>69000</td>\n",
       "      <td>[웰컴쿠폰] 올인원 패키지 1만원 할인 쿠폰</td>\n",
       "      <td>10000.0</td>\n",
       "      <td>79000.0</td>\n",
       "      <td>79000.0</td>\n",
       "      <td>KAKAO</td>\n",
       "      <td>CARD</td>\n",
       "      <td>개발자 커리어</td>\n",
       "      <td>2020-05-29 00:00:00</td>\n",
       "    </tr>\n",
       "    <tr>\n",
       "      <th>9315</th>\n",
       "      <td>1046746</td>\n",
       "      <td>515343.0</td>\n",
       "      <td>203525.0</td>\n",
       "      <td>PAYMENT</td>\n",
       "      <td>COMPLETED</td>\n",
       "      <td>초격차 패키지 : 한번에 끝내는 Java/Spring 웹 개발 마스터</td>\n",
       "      <td>프로그래밍</td>\n",
       "      <td>올인원</td>\n",
       "      <td>2021-05-01 02:30:52</td>\n",
       "      <td>103500</td>\n",
       "      <td>[웰컴쿠폰] 올인원 패키지 1만원 할인 쿠폰</td>\n",
       "      <td>10000.0</td>\n",
       "      <td>113500.0</td>\n",
       "      <td>113500.0</td>\n",
       "      <td>INICIS</td>\n",
       "      <td>VBANK</td>\n",
       "      <td>백엔드 개발</td>\n",
       "      <td>2021-02-01 00:00:00</td>\n",
       "    </tr>\n",
       "    <tr>\n",
       "      <th>9324</th>\n",
       "      <td>1046830</td>\n",
       "      <td>510464.0</td>\n",
       "      <td>204450.0</td>\n",
       "      <td>PAYMENT</td>\n",
       "      <td>COMPLETED</td>\n",
       "      <td>올인원 패키지 : 누적 조회수 12억! 우감독의 재미있는 영상 편집</td>\n",
       "      <td>영상/3D</td>\n",
       "      <td>올인원</td>\n",
       "      <td>2021-05-01 07:38:38</td>\n",
       "      <td>90000</td>\n",
       "      <td>[웰컴쿠폰] 올인원 패키지 2만원 할인 쿠폰</td>\n",
       "      <td>20000.0</td>\n",
       "      <td>110000.0</td>\n",
       "      <td>110000.0</td>\n",
       "      <td>INICIS</td>\n",
       "      <td>VBANK</td>\n",
       "      <td>영상 편집</td>\n",
       "      <td>2021-04-22 00:00:00</td>\n",
       "    </tr>\n",
       "    <tr>\n",
       "      <th>9326</th>\n",
       "      <td>1046835</td>\n",
       "      <td>515416.0</td>\n",
       "      <td>203498.0</td>\n",
       "      <td>PAYMENT</td>\n",
       "      <td>COMPLETED</td>\n",
       "      <td>초격차 패키지 : 한 번에 끝내는 엑셀 실무</td>\n",
       "      <td>업무 생산성</td>\n",
       "      <td>올인원</td>\n",
       "      <td>2021-05-01 07:53:36</td>\n",
       "      <td>99000</td>\n",
       "      <td>[웰컴쿠폰] 올인원 패키지 1만원 할인 쿠폰</td>\n",
       "      <td>10000.0</td>\n",
       "      <td>109000.0</td>\n",
       "      <td>109000.0</td>\n",
       "      <td>INICIS</td>\n",
       "      <td>CARD</td>\n",
       "      <td>엑셀/VBA</td>\n",
       "      <td>2020-12-18 00:00:00</td>\n",
       "    </tr>\n",
       "    <tr>\n",
       "      <th>...</th>\n",
       "      <td>...</td>\n",
       "      <td>...</td>\n",
       "      <td>...</td>\n",
       "      <td>...</td>\n",
       "      <td>...</td>\n",
       "      <td>...</td>\n",
       "      <td>...</td>\n",
       "      <td>...</td>\n",
       "      <td>...</td>\n",
       "      <td>...</td>\n",
       "      <td>...</td>\n",
       "      <td>...</td>\n",
       "      <td>...</td>\n",
       "      <td>...</td>\n",
       "      <td>...</td>\n",
       "      <td>...</td>\n",
       "      <td>...</td>\n",
       "      <td>...</td>\n",
       "    </tr>\n",
       "    <tr>\n",
       "      <th>16961</th>\n",
       "      <td>1114237</td>\n",
       "      <td>532545.0</td>\n",
       "      <td>202357.0</td>\n",
       "      <td>PAYMENT</td>\n",
       "      <td>COMPLETED</td>\n",
       "      <td>올인원 패키지 : 직장인을 위한 파이썬 데이터분석</td>\n",
       "      <td>데이터사이언스</td>\n",
       "      <td>올인원</td>\n",
       "      <td>2021-05-31 23:57:02</td>\n",
       "      <td>103500</td>\n",
       "      <td>[웰컴쿠폰] 올인원 패키지 2만원 할인 쿠폰</td>\n",
       "      <td>20000.0</td>\n",
       "      <td>123500.0</td>\n",
       "      <td>123500.0</td>\n",
       "      <td>KAKAO</td>\n",
       "      <td>CARD</td>\n",
       "      <td>데이터분석</td>\n",
       "      <td>2020-03-13 00:00:00</td>\n",
       "    </tr>\n",
       "    <tr>\n",
       "      <th>16962</th>\n",
       "      <td>1114246</td>\n",
       "      <td>546178.0</td>\n",
       "      <td>201582.0</td>\n",
       "      <td>PAYMENT</td>\n",
       "      <td>COMPLETED</td>\n",
       "      <td>올인원 패키지 : 컴퓨터 공학 전공 필수</td>\n",
       "      <td>프로그래밍</td>\n",
       "      <td>올인원</td>\n",
       "      <td>2021-05-31 23:57:31</td>\n",
       "      <td>109500</td>\n",
       "      <td>[웰컴쿠폰] 올인원 패키지 2만원 할인 쿠폰</td>\n",
       "      <td>20000.0</td>\n",
       "      <td>129500.0</td>\n",
       "      <td>129500.0</td>\n",
       "      <td>KAKAO</td>\n",
       "      <td>CARD</td>\n",
       "      <td>개발자 커리어</td>\n",
       "      <td>2019-09-30 00:00:00</td>\n",
       "    </tr>\n",
       "    <tr>\n",
       "      <th>16963</th>\n",
       "      <td>1114247</td>\n",
       "      <td>548081.0</td>\n",
       "      <td>204172.0</td>\n",
       "      <td>PAYMENT</td>\n",
       "      <td>COMPLETED</td>\n",
       "      <td>올인원 패키지 : 바다가 알려주는 감성가득 영상 제작</td>\n",
       "      <td>영상/3D</td>\n",
       "      <td>올인원</td>\n",
       "      <td>2021-05-31 23:57:35</td>\n",
       "      <td>91000</td>\n",
       "      <td>[웰컴쿠폰] 올인원 패키지 2만원 할인 쿠폰</td>\n",
       "      <td>20000.0</td>\n",
       "      <td>111000.0</td>\n",
       "      <td>111000.0</td>\n",
       "      <td>INICIS</td>\n",
       "      <td>CARD</td>\n",
       "      <td>영상 편집</td>\n",
       "      <td>2021-03-19 00:00:00</td>\n",
       "    </tr>\n",
       "    <tr>\n",
       "      <th>16971</th>\n",
       "      <td>1114281</td>\n",
       "      <td>515274.0</td>\n",
       "      <td>203782.0</td>\n",
       "      <td>PAYMENT</td>\n",
       "      <td>COMPLETED</td>\n",
       "      <td>초격차 패키지 : 한번에 끝내는 모션그래픽</td>\n",
       "      <td>영상/3D</td>\n",
       "      <td>올인원</td>\n",
       "      <td>2021-05-31 23:59:16</td>\n",
       "      <td>129000</td>\n",
       "      <td>[웰컴쿠폰] 올인원 패키지 2만원 할인 쿠폰</td>\n",
       "      <td>20000.0</td>\n",
       "      <td>149000.0</td>\n",
       "      <td>149000.0</td>\n",
       "      <td>KAKAO</td>\n",
       "      <td>CARD</td>\n",
       "      <td>모션그래픽</td>\n",
       "      <td>2021-01-22 00:00:00</td>\n",
       "    </tr>\n",
       "    <tr>\n",
       "      <th>16972</th>\n",
       "      <td>1114282</td>\n",
       "      <td>15450.0</td>\n",
       "      <td>205205.0</td>\n",
       "      <td>PAYMENT</td>\n",
       "      <td>COMPLETED</td>\n",
       "      <td>올인원 패키지 : A/B 테스트 탑재, 개인화 마케팅 끝장내기</td>\n",
       "      <td>마케팅</td>\n",
       "      <td>올인원</td>\n",
       "      <td>2021-05-31 23:59:23</td>\n",
       "      <td>76300</td>\n",
       "      <td>[30%할인] 개인화마케팅</td>\n",
       "      <td>32700.0</td>\n",
       "      <td>109000.0</td>\n",
       "      <td>109000.0</td>\n",
       "      <td>INICIS</td>\n",
       "      <td>CARD</td>\n",
       "      <td>데이터마케팅</td>\n",
       "      <td>2021-05-21 00:00:00</td>\n",
       "    </tr>\n",
       "  </tbody>\n",
       "</table>\n",
       "<p>3010 rows × 18 columns</p>\n",
       "</div>"
      ],
      "text/plain": [
       "            id  customer_id  course_id     type      state  \\\n",
       "9307   1046648     510126.0   202521.0  PAYMENT  COMPLETED   \n",
       "9308   1046657     515146.0   202698.0  PAYMENT  COMPLETED   \n",
       "9315   1046746     515343.0   203525.0  PAYMENT  COMPLETED   \n",
       "9324   1046830     510464.0   204450.0  PAYMENT  COMPLETED   \n",
       "9326   1046835     515416.0   203498.0  PAYMENT  COMPLETED   \n",
       "...        ...          ...        ...      ...        ...   \n",
       "16961  1114237     532545.0   202357.0  PAYMENT  COMPLETED   \n",
       "16962  1114246     546178.0   201582.0  PAYMENT  COMPLETED   \n",
       "16963  1114247     548081.0   204172.0  PAYMENT  COMPLETED   \n",
       "16971  1114281     515274.0   203782.0  PAYMENT  COMPLETED   \n",
       "16972  1114282      15450.0   205205.0  PAYMENT  COMPLETED   \n",
       "\n",
       "                                 course_title category_title format  \\\n",
       "9307     올인원 패키지 : 다빈치리졸브로 배우는 영상 색 보정 A to Z          영상/3D    올인원   \n",
       "9308                     합격 패스 : 데이터베이스와 SQLD          프로그래밍    올인원   \n",
       "9315   초격차 패키지 : 한번에 끝내는 Java/Spring 웹 개발 마스터          프로그래밍    올인원   \n",
       "9324    올인원 패키지 : 누적 조회수 12억! 우감독의 재미있는 영상 편집          영상/3D    올인원   \n",
       "9326                 초격차 패키지 : 한 번에 끝내는 엑셀 실무         업무 생산성    올인원   \n",
       "...                                       ...            ...    ...   \n",
       "16961             올인원 패키지 : 직장인을 위한 파이썬 데이터분석        데이터사이언스    올인원   \n",
       "16962                  올인원 패키지 : 컴퓨터 공학 전공 필수          프로그래밍    올인원   \n",
       "16963           올인원 패키지 : 바다가 알려주는 감성가득 영상 제작          영상/3D    올인원   \n",
       "16971                 초격차 패키지 : 한번에 끝내는 모션그래픽          영상/3D    올인원   \n",
       "16972      올인원 패키지 : A/B 테스트 탑재, 개인화 마케팅 끝장내기            마케팅    올인원   \n",
       "\n",
       "             completed_at  transaction_amount              coupon_title  \\\n",
       "9307  2021-05-01 00:13:46               91500             [럭키룰렛] 올인원패키지   \n",
       "9308  2021-05-01 00:14:29               69000  [웰컴쿠폰] 올인원 패키지 1만원 할인 쿠폰   \n",
       "9315  2021-05-01 02:30:52              103500  [웰컴쿠폰] 올인원 패키지 1만원 할인 쿠폰   \n",
       "9324  2021-05-01 07:38:38               90000  [웰컴쿠폰] 올인원 패키지 2만원 할인 쿠폰   \n",
       "9326  2021-05-01 07:53:36               99000  [웰컴쿠폰] 올인원 패키지 1만원 할인 쿠폰   \n",
       "...                   ...                 ...                       ...   \n",
       "16961 2021-05-31 23:57:02              103500  [웰컴쿠폰] 올인원 패키지 2만원 할인 쿠폰   \n",
       "16962 2021-05-31 23:57:31              109500  [웰컴쿠폰] 올인원 패키지 2만원 할인 쿠폰   \n",
       "16963 2021-05-31 23:57:35               91000  [웰컴쿠폰] 올인원 패키지 2만원 할인 쿠폰   \n",
       "16971 2021-05-31 23:59:16              129000  [웰컴쿠폰] 올인원 패키지 2만원 할인 쿠폰   \n",
       "16972 2021-05-31 23:59:23               76300            [30%할인] 개인화마케팅   \n",
       "\n",
       "       coupon_discount_amount  sale_price  tax_free_amount      pg method  \\\n",
       "9307                  20000.0    111500.0         111500.0  INICIS  VBANK   \n",
       "9308                  10000.0     79000.0          79000.0   KAKAO   CARD   \n",
       "9315                  10000.0    113500.0         113500.0  INICIS  VBANK   \n",
       "9324                  20000.0    110000.0         110000.0  INICIS  VBANK   \n",
       "9326                  10000.0    109000.0         109000.0  INICIS   CARD   \n",
       "...                       ...         ...              ...     ...    ...   \n",
       "16961                 20000.0    123500.0         123500.0   KAKAO   CARD   \n",
       "16962                 20000.0    129500.0         129500.0   KAKAO   CARD   \n",
       "16963                 20000.0    111000.0         111000.0  INICIS   CARD   \n",
       "16971                 20000.0    149000.0         149000.0   KAKAO   CARD   \n",
       "16972                 32700.0    109000.0         109000.0  INICIS   CARD   \n",
       "\n",
       "      subcategory_title   marketing_start_at  \n",
       "9307              영상 편집  2020-03-24 00:00:00  \n",
       "9308            개발자 커리어  2020-05-29 00:00:00  \n",
       "9315             백엔드 개발  2021-02-01 00:00:00  \n",
       "9324              영상 편집  2021-04-22 00:00:00  \n",
       "9326             엑셀/VBA  2020-12-18 00:00:00  \n",
       "...                 ...                  ...  \n",
       "16961             데이터분석  2020-03-13 00:00:00  \n",
       "16962           개발자 커리어  2019-09-30 00:00:00  \n",
       "16963             영상 편집  2021-03-19 00:00:00  \n",
       "16971             모션그래픽  2021-01-22 00:00:00  \n",
       "16972            데이터마케팅  2021-05-21 00:00:00  \n",
       "\n",
       "[3010 rows x 18 columns]"
      ]
     },
     "execution_count": 88,
     "metadata": {},
     "output_type": "execute_result"
    }
   ],
   "source": [
    "df5"
   ]
  },
  {
   "cell_type": "code",
   "execution_count": null,
   "id": "a1c629a1",
   "metadata": {},
   "outputs": [],
   "source": []
  }
 ],
 "metadata": {
  "kernelspec": {
   "display_name": "Python 3 (ipykernel)",
   "language": "python",
   "name": "python3"
  },
  "language_info": {
   "codemirror_mode": {
    "name": "ipython",
    "version": 3
   },
   "file_extension": ".py",
   "mimetype": "text/x-python",
   "name": "python",
   "nbconvert_exporter": "python",
   "pygments_lexer": "ipython3",
   "version": "3.9.7"
  }
 },
 "nbformat": 4,
 "nbformat_minor": 5
}
