{
 "cells": [
  {
   "cell_type": "markdown",
   "id": "c091e5c8",
   "metadata": {},
   "source": [
    "# 발표 준비\n",
    "\n",
    "## 발표 주제 : \n",
    "\n",
    "1. 전처리를 어떻게 했는지 (지수님) \n",
    "- 기준\n",
    "- 이유\n",
    "- \n",
    "\n",
    "2. EDA\n",
    "- 카테고리 위주로 발표 -> 추가적으로 서브카테고리를 봤다. (O)\n",
    "- 디자인 강의 쪼금? 프로그래밍을 제친? (태영님)\n",
    "- 전체 데이터 카테고리 분석 (O)\n",
    "- 디자인 카테고리를 월별로 시각화 (line plot으로) (박정기)\n",
    "- \n",
    "\n",
    "피날래. 추천시스템\n",
    "- 코사인 유사도 (진수) 간단하게 설명\n",
    "- 각각의 강의명의 코사인 유사도를 계산하여 \n",
    "- 간단한 추천시스템 구현\n",
    "- 추후에 광고할때 사용하거나, 강의 추천\n",
    "\n",
    "강좌별 -> 자세 보여주고\n",
    "+ 서브카테고리도 된다 해봤다. (col바꾸면 쌉가능)\n",
    "\n",
    "개선방향 (간단하게)\n",
    "- 데이터의 부재, 퀄리티 낮음\n",
    "- 진수님이 적어주실 거임\n",
    "- 단점 보완 방법을 \n",
    "\n",
    "### 결론 : EDA를 했지만...인사이트를 얻어내기에 부족했다 -> 그럼에도 불구하고 추천 시스템을 만들어냈다."
   ]
  }
 ],
 "metadata": {
  "kernelspec": {
   "display_name": "Python 3 (ipykernel)",
   "language": "python",
   "name": "python3"
  },
  "language_info": {
   "codemirror_mode": {
    "name": "ipython",
    "version": 3
   },
   "file_extension": ".py",
   "mimetype": "text/x-python",
   "name": "python",
   "nbconvert_exporter": "python",
   "pygments_lexer": "ipython3",
   "version": "3.9.7"
  }
 },
 "nbformat": 4,
 "nbformat_minor": 5
}
