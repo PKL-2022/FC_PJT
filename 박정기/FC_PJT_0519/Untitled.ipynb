{
 "cells": [
  {
   "cell_type": "code",
   "execution_count": 5,
   "id": "060a50f2",
   "metadata": {},
   "outputs": [],
   "source": [
    "import pandas as pd\n",
    "import numpy as np\n",
    "import matplotlib.pyplot as plt\n",
    "import seaborn as sns\n",
    "\n",
    "# row 제한 없애기\n",
    "# pd.set_option('display.max_rows', None)\n",
    "\n",
    "import pandas as pd\n",
    "df = pd.read_csv('pp2_FC.csv', index_col = 0)"
   ]
  },
  {
   "cell_type": "code",
   "execution_count": 6,
   "id": "75da3ce4",
   "metadata": {},
   "outputs": [],
   "source": [
    "import matplotlib.pyplot as plt\n",
    "import matplotlib.font_manager as fm\n",
    "font_location = '../NanumGothic.ttf'  #font 경로 설정\n",
    "font_name = fm.FontProperties(fname=font_location).get_name()\n",
    "plt.rc('font', family=font_name)"
   ]
  },
  {
   "cell_type": "code",
   "execution_count": 7,
   "id": "bcb78347",
   "metadata": {},
   "outputs": [
    {
     "name": "stdout",
     "output_type": "stream",
     "text": [
      "<class 'pandas.core.frame.DataFrame'>\n",
      "Int64Index: 19399 entries, 0 to 19398\n",
      "Data columns (total 18 columns):\n",
      " #   Column                  Non-Null Count  Dtype  \n",
      "---  ------                  --------------  -----  \n",
      " 0   id                      19399 non-null  int64  \n",
      " 1   customer_id             19399 non-null  float64\n",
      " 2   course_id               19398 non-null  float64\n",
      " 3   type                    19399 non-null  object \n",
      " 4   state                   19399 non-null  object \n",
      " 5   course_title            19399 non-null  object \n",
      " 6   category_title          19399 non-null  object \n",
      " 7   format                  19399 non-null  object \n",
      " 8   completed_at            19399 non-null  object \n",
      " 9   transaction_amount      19399 non-null  int64  \n",
      " 10  coupon_title            9544 non-null   object \n",
      " 11  coupon_discount_amount  9544 non-null   float64\n",
      " 12  sale_price              19388 non-null  float64\n",
      " 13  tax_free_amount         19388 non-null  float64\n",
      " 14  pg                      17498 non-null  object \n",
      " 15  method                  19399 non-null  object \n",
      " 16  subcategory_title       19399 non-null  object \n",
      " 17  marketing_start_at      17249 non-null  object \n",
      "dtypes: float64(5), int64(2), object(11)\n",
      "memory usage: 2.8+ MB\n"
     ]
    }
   ],
   "source": [
    "df.info()"
   ]
  },
  {
   "cell_type": "code",
   "execution_count": null,
   "id": "61330ff1",
   "metadata": {},
   "outputs": [],
   "source": []
  }
 ],
 "metadata": {
  "kernelspec": {
   "display_name": "Python 3 (ipykernel)",
   "language": "python",
   "name": "python3"
  },
  "language_info": {
   "codemirror_mode": {
    "name": "ipython",
    "version": 3
   },
   "file_extension": ".py",
   "mimetype": "text/x-python",
   "name": "python",
   "nbconvert_exporter": "python",
   "pygments_lexer": "ipython3",
   "version": "3.9.7"
  }
 },
 "nbformat": 4,
 "nbformat_minor": 5
}
