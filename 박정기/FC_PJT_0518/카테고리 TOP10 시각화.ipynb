{
 "cells": [
  {
   "cell_type": "code",
   "execution_count": 1,
   "id": "092c2680",
   "metadata": {},
   "outputs": [],
   "source": [
    "import pandas as pd\n",
    "import numpy as np\n",
    "import matplotlib.pyplot as plt\n",
    "import seaborn as sns\n",
    "\n",
    "# row 제한 없애기\n",
    "# pd.set_option('display.max_rows', None)\n",
    "\n",
    "import pandas as pd\n",
    "df = pd.read_csv('pp2_FC.csv', index_col = 0)"
   ]
  },
  {
   "cell_type": "code",
   "execution_count": 2,
   "id": "79a07873",
   "metadata": {},
   "outputs": [],
   "source": [
    "import matplotlib.pyplot as plt\n",
    "import matplotlib.font_manager as fm\n",
    "font_location = '../NanumGothic.ttf'  #font 경로 설정\n",
    "font_name = fm.FontProperties(fname=font_location).get_name()\n",
    "plt.rc('font', family=font_name)"
   ]
  },
  {
   "cell_type": "code",
   "execution_count": 3,
   "id": "d88d9be1",
   "metadata": {},
   "outputs": [
    {
     "data": {
      "text/html": [
       "<div>\n",
       "<style scoped>\n",
       "    .dataframe tbody tr th:only-of-type {\n",
       "        vertical-align: middle;\n",
       "    }\n",
       "\n",
       "    .dataframe tbody tr th {\n",
       "        vertical-align: top;\n",
       "    }\n",
       "\n",
       "    .dataframe thead th {\n",
       "        text-align: right;\n",
       "    }\n",
       "</style>\n",
       "<table border=\"1\" class=\"dataframe\">\n",
       "  <thead>\n",
       "    <tr style=\"text-align: right;\">\n",
       "      <th></th>\n",
       "      <th>id</th>\n",
       "      <th>customer_id</th>\n",
       "      <th>course_id</th>\n",
       "      <th>type</th>\n",
       "      <th>state</th>\n",
       "      <th>course_title</th>\n",
       "      <th>category_title</th>\n",
       "      <th>format</th>\n",
       "      <th>completed_at</th>\n",
       "      <th>transaction_amount</th>\n",
       "      <th>coupon_title</th>\n",
       "      <th>coupon_discount_amount</th>\n",
       "      <th>sale_price</th>\n",
       "      <th>tax_free_amount</th>\n",
       "      <th>pg</th>\n",
       "      <th>method</th>\n",
       "      <th>subcategory_title</th>\n",
       "      <th>marketing_start_at</th>\n",
       "    </tr>\n",
       "  </thead>\n",
       "  <tbody>\n",
       "    <tr>\n",
       "      <th>0</th>\n",
       "      <td>970658</td>\n",
       "      <td>478028.0</td>\n",
       "      <td>201797.0</td>\n",
       "      <td>PAYMENT</td>\n",
       "      <td>COMPLETED</td>\n",
       "      <td>올인원 패키지 : 직장인 필수 스킬 3종 세트 MAX</td>\n",
       "      <td>업무 생산성</td>\n",
       "      <td>올인원</td>\n",
       "      <td>2021-03-28 15:21:54</td>\n",
       "      <td>97500</td>\n",
       "      <td>[웰컴쿠폰] 올인원 패키지 2만원 할인 쿠폰</td>\n",
       "      <td>20000.0</td>\n",
       "      <td>117500.0</td>\n",
       "      <td>117500.0</td>\n",
       "      <td>NaN</td>\n",
       "      <td>CARD</td>\n",
       "      <td>PPT/보고서</td>\n",
       "      <td>2019-11-14 00:00:00</td>\n",
       "    </tr>\n",
       "    <tr>\n",
       "      <th>1</th>\n",
       "      <td>970704</td>\n",
       "      <td>471759.0</td>\n",
       "      <td>204068.0</td>\n",
       "      <td>PAYMENT</td>\n",
       "      <td>COMPLETED</td>\n",
       "      <td>올인원 패키지 : 마디아의 UX/UI 포트폴리오</td>\n",
       "      <td>디자인</td>\n",
       "      <td>올인원</td>\n",
       "      <td>2021-03-28 15:46:22</td>\n",
       "      <td>89000</td>\n",
       "      <td>[웰컴쿠폰] 올인원 패키지 1만원 할인 쿠폰</td>\n",
       "      <td>10000.0</td>\n",
       "      <td>99000.0</td>\n",
       "      <td>99000.0</td>\n",
       "      <td>NaN</td>\n",
       "      <td>CARD</td>\n",
       "      <td>UX/UI</td>\n",
       "      <td>2021-03-11 00:00:00</td>\n",
       "    </tr>\n",
       "    <tr>\n",
       "      <th>2</th>\n",
       "      <td>970703</td>\n",
       "      <td>478051.0</td>\n",
       "      <td>203499.0</td>\n",
       "      <td>PAYMENT</td>\n",
       "      <td>COMPLETED</td>\n",
       "      <td>올인원 패키지 : 100억을 움직이는 단 10장의 PPT</td>\n",
       "      <td>업무 생산성</td>\n",
       "      <td>올인원</td>\n",
       "      <td>2021-03-28 15:49:21</td>\n",
       "      <td>118000</td>\n",
       "      <td>NaN</td>\n",
       "      <td>NaN</td>\n",
       "      <td>118000.0</td>\n",
       "      <td>118000.0</td>\n",
       "      <td>NaN</td>\n",
       "      <td>VBANK</td>\n",
       "      <td>PPT/보고서</td>\n",
       "      <td>2020-12-07 00:00:00</td>\n",
       "    </tr>\n",
       "    <tr>\n",
       "      <th>3</th>\n",
       "      <td>970721</td>\n",
       "      <td>140846.0</td>\n",
       "      <td>202612.0</td>\n",
       "      <td>PAYMENT</td>\n",
       "      <td>COMPLETED</td>\n",
       "      <td>올인원 패키지 : 김기현의 딥러닝을 활용한 자연어처리 입문</td>\n",
       "      <td>데이터사이언스</td>\n",
       "      <td>올인원</td>\n",
       "      <td>2021-03-28 16:07:06</td>\n",
       "      <td>169500</td>\n",
       "      <td>NaN</td>\n",
       "      <td>NaN</td>\n",
       "      <td>169500.0</td>\n",
       "      <td>169500.0</td>\n",
       "      <td>NaN</td>\n",
       "      <td>CARD</td>\n",
       "      <td>딥러닝/인공지능</td>\n",
       "      <td>2020-04-27 00:00:00</td>\n",
       "    </tr>\n",
       "    <tr>\n",
       "      <th>4</th>\n",
       "      <td>970740</td>\n",
       "      <td>474451.0</td>\n",
       "      <td>202883.0</td>\n",
       "      <td>PAYMENT</td>\n",
       "      <td>COMPLETED</td>\n",
       "      <td>올인원 패키지 : 디지털 마케팅 MAX 2020</td>\n",
       "      <td>마케팅</td>\n",
       "      <td>올인원</td>\n",
       "      <td>2021-03-28 16:28:42</td>\n",
       "      <td>114500</td>\n",
       "      <td>[웰컴쿠폰] 올인원 패키지 2만원 할인 쿠폰</td>\n",
       "      <td>20000.0</td>\n",
       "      <td>134500.0</td>\n",
       "      <td>134500.0</td>\n",
       "      <td>NaN</td>\n",
       "      <td>CARD</td>\n",
       "      <td>디지털마케팅</td>\n",
       "      <td>NaN</td>\n",
       "    </tr>\n",
       "    <tr>\n",
       "      <th>...</th>\n",
       "      <td>...</td>\n",
       "      <td>...</td>\n",
       "      <td>...</td>\n",
       "      <td>...</td>\n",
       "      <td>...</td>\n",
       "      <td>...</td>\n",
       "      <td>...</td>\n",
       "      <td>...</td>\n",
       "      <td>...</td>\n",
       "      <td>...</td>\n",
       "      <td>...</td>\n",
       "      <td>...</td>\n",
       "      <td>...</td>\n",
       "      <td>...</td>\n",
       "      <td>...</td>\n",
       "      <td>...</td>\n",
       "      <td>...</td>\n",
       "      <td>...</td>\n",
       "    </tr>\n",
       "    <tr>\n",
       "      <th>19394</th>\n",
       "      <td>1364855</td>\n",
       "      <td>503113.0</td>\n",
       "      <td>205879.0</td>\n",
       "      <td>PAYMENT</td>\n",
       "      <td>COMPLETED</td>\n",
       "      <td>올인원 패키지 : 누적 다운로드 120만+ 1인 개발자와 함께하는 앱 개발 입문</td>\n",
       "      <td>프로그래밍</td>\n",
       "      <td>올인원</td>\n",
       "      <td>2021-09-25 11:13:49</td>\n",
       "      <td>179000</td>\n",
       "      <td>NaN</td>\n",
       "      <td>NaN</td>\n",
       "      <td>179000.0</td>\n",
       "      <td>179000.0</td>\n",
       "      <td>NAVER</td>\n",
       "      <td>POINT</td>\n",
       "      <td>모바일앱</td>\n",
       "      <td>2021-07-02 00:00:00</td>\n",
       "    </tr>\n",
       "    <tr>\n",
       "      <th>19395</th>\n",
       "      <td>1364862</td>\n",
       "      <td>670463.0</td>\n",
       "      <td>202726.0</td>\n",
       "      <td>PAYMENT</td>\n",
       "      <td>COMPLETED</td>\n",
       "      <td>올인원 패키지 : 재무/세무 회계 실무 완성</td>\n",
       "      <td>부동산/금융</td>\n",
       "      <td>올인원</td>\n",
       "      <td>2021-09-25 11:18:55</td>\n",
       "      <td>126000</td>\n",
       "      <td>[미래투자금] 온라인 강의 1만원 할인쿠폰</td>\n",
       "      <td>10000.0</td>\n",
       "      <td>136000.0</td>\n",
       "      <td>136000.0</td>\n",
       "      <td>PAYCO</td>\n",
       "      <td>POINT</td>\n",
       "      <td>회계/재무/세무</td>\n",
       "      <td>2020-06-18 00:00:00</td>\n",
       "    </tr>\n",
       "    <tr>\n",
       "      <th>19396</th>\n",
       "      <td>1364883</td>\n",
       "      <td>670787.0</td>\n",
       "      <td>205687.0</td>\n",
       "      <td>PAYMENT</td>\n",
       "      <td>COMPLETED</td>\n",
       "      <td>올인원 패키지 : 노잼봇과 함께 배우는 파이썬 유치원</td>\n",
       "      <td>프로그래밍</td>\n",
       "      <td>올인원</td>\n",
       "      <td>2021-09-25 11:49:51</td>\n",
       "      <td>139000</td>\n",
       "      <td>[미래투자금] 온라인 강의 1만원 할인쿠폰</td>\n",
       "      <td>10000.0</td>\n",
       "      <td>149000.0</td>\n",
       "      <td>149000.0</td>\n",
       "      <td>INICIS</td>\n",
       "      <td>CARD</td>\n",
       "      <td>코딩 입문</td>\n",
       "      <td>2021-08-30 00:00:00</td>\n",
       "    </tr>\n",
       "    <tr>\n",
       "      <th>19397</th>\n",
       "      <td>1364886</td>\n",
       "      <td>578540.0</td>\n",
       "      <td>202789.0</td>\n",
       "      <td>PAYMENT</td>\n",
       "      <td>COMPLETED</td>\n",
       "      <td>올인원 패키지 : 2021 취업/이직/투자를 위한 기업분석</td>\n",
       "      <td>투자/재테크</td>\n",
       "      <td>올인원</td>\n",
       "      <td>2021-09-25 11:54:34</td>\n",
       "      <td>145000</td>\n",
       "      <td>NaN</td>\n",
       "      <td>NaN</td>\n",
       "      <td>145000.0</td>\n",
       "      <td>145000.0</td>\n",
       "      <td>KAKAO</td>\n",
       "      <td>POINT</td>\n",
       "      <td>주식 투자</td>\n",
       "      <td>2020-09-11 00:00:00</td>\n",
       "    </tr>\n",
       "    <tr>\n",
       "      <th>19398</th>\n",
       "      <td>1364919</td>\n",
       "      <td>670833.0</td>\n",
       "      <td>201582.0</td>\n",
       "      <td>PAYMENT</td>\n",
       "      <td>COMPLETED</td>\n",
       "      <td>올인원 패키지 : 컴퓨터 공학 전공 필수</td>\n",
       "      <td>프로그래밍</td>\n",
       "      <td>올인원</td>\n",
       "      <td>2021-09-25 12:08:05</td>\n",
       "      <td>169000</td>\n",
       "      <td>[미래투자금] 온라인 강의 2만원 할인쿠폰</td>\n",
       "      <td>20000.0</td>\n",
       "      <td>189000.0</td>\n",
       "      <td>189000.0</td>\n",
       "      <td>INICIS</td>\n",
       "      <td>CARD</td>\n",
       "      <td>개발자 커리어</td>\n",
       "      <td>2019-09-30 00:00:00</td>\n",
       "    </tr>\n",
       "  </tbody>\n",
       "</table>\n",
       "<p>19399 rows × 18 columns</p>\n",
       "</div>"
      ],
      "text/plain": [
       "            id  customer_id  course_id     type      state  \\\n",
       "0       970658     478028.0   201797.0  PAYMENT  COMPLETED   \n",
       "1       970704     471759.0   204068.0  PAYMENT  COMPLETED   \n",
       "2       970703     478051.0   203499.0  PAYMENT  COMPLETED   \n",
       "3       970721     140846.0   202612.0  PAYMENT  COMPLETED   \n",
       "4       970740     474451.0   202883.0  PAYMENT  COMPLETED   \n",
       "...        ...          ...        ...      ...        ...   \n",
       "19394  1364855     503113.0   205879.0  PAYMENT  COMPLETED   \n",
       "19395  1364862     670463.0   202726.0  PAYMENT  COMPLETED   \n",
       "19396  1364883     670787.0   205687.0  PAYMENT  COMPLETED   \n",
       "19397  1364886     578540.0   202789.0  PAYMENT  COMPLETED   \n",
       "19398  1364919     670833.0   201582.0  PAYMENT  COMPLETED   \n",
       "\n",
       "                                       course_title category_title format  \\\n",
       "0                     올인원 패키지 : 직장인 필수 스킬 3종 세트 MAX         업무 생산성    올인원   \n",
       "1                        올인원 패키지 : 마디아의 UX/UI 포트폴리오            디자인    올인원   \n",
       "2                   올인원 패키지 : 100억을 움직이는 단 10장의 PPT         업무 생산성    올인원   \n",
       "3                  올인원 패키지 : 김기현의 딥러닝을 활용한 자연어처리 입문        데이터사이언스    올인원   \n",
       "4                        올인원 패키지 : 디지털 마케팅 MAX 2020            마케팅    올인원   \n",
       "...                                             ...            ...    ...   \n",
       "19394  올인원 패키지 : 누적 다운로드 120만+ 1인 개발자와 함께하는 앱 개발 입문          프로그래밍    올인원   \n",
       "19395                      올인원 패키지 : 재무/세무 회계 실무 완성         부동산/금융    올인원   \n",
       "19396                 올인원 패키지 : 노잼봇과 함께 배우는 파이썬 유치원          프로그래밍    올인원   \n",
       "19397              올인원 패키지 : 2021 취업/이직/투자를 위한 기업분석         투자/재테크    올인원   \n",
       "19398                        올인원 패키지 : 컴퓨터 공학 전공 필수          프로그래밍    올인원   \n",
       "\n",
       "              completed_at  transaction_amount              coupon_title  \\\n",
       "0      2021-03-28 15:21:54               97500  [웰컴쿠폰] 올인원 패키지 2만원 할인 쿠폰   \n",
       "1      2021-03-28 15:46:22               89000  [웰컴쿠폰] 올인원 패키지 1만원 할인 쿠폰   \n",
       "2      2021-03-28 15:49:21              118000                       NaN   \n",
       "3      2021-03-28 16:07:06              169500                       NaN   \n",
       "4      2021-03-28 16:28:42              114500  [웰컴쿠폰] 올인원 패키지 2만원 할인 쿠폰   \n",
       "...                    ...                 ...                       ...   \n",
       "19394  2021-09-25 11:13:49              179000                       NaN   \n",
       "19395  2021-09-25 11:18:55              126000   [미래투자금] 온라인 강의 1만원 할인쿠폰   \n",
       "19396  2021-09-25 11:49:51              139000   [미래투자금] 온라인 강의 1만원 할인쿠폰   \n",
       "19397  2021-09-25 11:54:34              145000                       NaN   \n",
       "19398  2021-09-25 12:08:05              169000   [미래투자금] 온라인 강의 2만원 할인쿠폰   \n",
       "\n",
       "       coupon_discount_amount  sale_price  tax_free_amount      pg method  \\\n",
       "0                     20000.0    117500.0         117500.0     NaN   CARD   \n",
       "1                     10000.0     99000.0          99000.0     NaN   CARD   \n",
       "2                         NaN    118000.0         118000.0     NaN  VBANK   \n",
       "3                         NaN    169500.0         169500.0     NaN   CARD   \n",
       "4                     20000.0    134500.0         134500.0     NaN   CARD   \n",
       "...                       ...         ...              ...     ...    ...   \n",
       "19394                     NaN    179000.0         179000.0   NAVER  POINT   \n",
       "19395                 10000.0    136000.0         136000.0   PAYCO  POINT   \n",
       "19396                 10000.0    149000.0         149000.0  INICIS   CARD   \n",
       "19397                     NaN    145000.0         145000.0   KAKAO  POINT   \n",
       "19398                 20000.0    189000.0         189000.0  INICIS   CARD   \n",
       "\n",
       "      subcategory_title   marketing_start_at  \n",
       "0               PPT/보고서  2019-11-14 00:00:00  \n",
       "1                 UX/UI  2021-03-11 00:00:00  \n",
       "2               PPT/보고서  2020-12-07 00:00:00  \n",
       "3              딥러닝/인공지능  2020-04-27 00:00:00  \n",
       "4                디지털마케팅                  NaN  \n",
       "...                 ...                  ...  \n",
       "19394              모바일앱  2021-07-02 00:00:00  \n",
       "19395          회계/재무/세무  2020-06-18 00:00:00  \n",
       "19396             코딩 입문  2021-08-30 00:00:00  \n",
       "19397             주식 투자  2020-09-11 00:00:00  \n",
       "19398           개발자 커리어  2019-09-30 00:00:00  \n",
       "\n",
       "[19399 rows x 18 columns]"
      ]
     },
     "execution_count": 3,
     "metadata": {},
     "output_type": "execute_result"
    }
   ],
   "source": [
    "df"
   ]
  },
  {
   "cell_type": "code",
   "execution_count": 4,
   "id": "770e6698",
   "metadata": {},
   "outputs": [
    {
     "name": "stdout",
     "output_type": "stream",
     "text": [
      "<class 'pandas.core.frame.DataFrame'>\n",
      "Int64Index: 19399 entries, 0 to 19398\n",
      "Data columns (total 18 columns):\n",
      " #   Column                  Non-Null Count  Dtype  \n",
      "---  ------                  --------------  -----  \n",
      " 0   id                      19399 non-null  int64  \n",
      " 1   customer_id             19399 non-null  float64\n",
      " 2   course_id               19398 non-null  float64\n",
      " 3   type                    19399 non-null  object \n",
      " 4   state                   19399 non-null  object \n",
      " 5   course_title            19399 non-null  object \n",
      " 6   category_title          19399 non-null  object \n",
      " 7   format                  19399 non-null  object \n",
      " 8   completed_at            19399 non-null  object \n",
      " 9   transaction_amount      19399 non-null  int64  \n",
      " 10  coupon_title            9544 non-null   object \n",
      " 11  coupon_discount_amount  9544 non-null   float64\n",
      " 12  sale_price              19388 non-null  float64\n",
      " 13  tax_free_amount         19388 non-null  float64\n",
      " 14  pg                      17498 non-null  object \n",
      " 15  method                  19399 non-null  object \n",
      " 16  subcategory_title       19399 non-null  object \n",
      " 17  marketing_start_at      17249 non-null  object \n",
      "dtypes: float64(5), int64(2), object(11)\n",
      "memory usage: 2.8+ MB\n"
     ]
    }
   ],
   "source": [
    "df.info()"
   ]
  },
  {
   "cell_type": "code",
   "execution_count": 5,
   "id": "213a3172",
   "metadata": {},
   "outputs": [],
   "source": [
    "df['completed_at'] = pd.to_datetime(df['completed_at'])"
   ]
  },
  {
   "cell_type": "code",
   "execution_count": 6,
   "id": "6e7541bc",
   "metadata": {},
   "outputs": [
    {
     "data": {
      "text/plain": [
       "(855, 18)"
      ]
     },
     "execution_count": 6,
     "metadata": {},
     "output_type": "execute_result"
    }
   ],
   "source": [
    "# 3월 데이터\n",
    "target_month = 3\n",
    "df3 = df.query('completed_at.dt.month == @target_month')\n",
    "df3.shape"
   ]
  },
  {
   "cell_type": "code",
   "execution_count": 7,
   "id": "2e108a26",
   "metadata": {},
   "outputs": [
    {
     "data": {
      "text/plain": [
       "(3422, 18)"
      ]
     },
     "execution_count": 7,
     "metadata": {},
     "output_type": "execute_result"
    }
   ],
   "source": [
    "# 4월 데이터\n",
    "target_month = 4\n",
    "df4 = df.query('completed_at.dt.month == @target_month')\n",
    "df4.shape"
   ]
  },
  {
   "cell_type": "code",
   "execution_count": 8,
   "id": "83f09234",
   "metadata": {},
   "outputs": [
    {
     "data": {
      "text/plain": [
       "(2869, 18)"
      ]
     },
     "execution_count": 8,
     "metadata": {},
     "output_type": "execute_result"
    }
   ],
   "source": [
    "# 5월 데이터\n",
    "target_month = 5\n",
    "df5 = df.query('completed_at.dt.month == @target_month')\n",
    "df5.shape"
   ]
  },
  {
   "cell_type": "code",
   "execution_count": 9,
   "id": "bb747cc3",
   "metadata": {},
   "outputs": [
    {
     "data": {
      "text/plain": [
       "(3573, 18)"
      ]
     },
     "execution_count": 9,
     "metadata": {},
     "output_type": "execute_result"
    }
   ],
   "source": [
    "# 6월 데이터\n",
    "target_month = 6\n",
    "df6 = df.query('completed_at.dt.month == @target_month')\n",
    "df6.shape"
   ]
  },
  {
   "cell_type": "code",
   "execution_count": 10,
   "id": "63e7cca4",
   "metadata": {
    "scrolled": true
   },
   "outputs": [
    {
     "data": {
      "text/plain": [
       "(3110, 18)"
      ]
     },
     "execution_count": 10,
     "metadata": {},
     "output_type": "execute_result"
    }
   ],
   "source": [
    "# 7월 데이터\n",
    "target_month = 7\n",
    "df7 = df.query('completed_at.dt.month == @target_month')\n",
    "df7.shape"
   ]
  },
  {
   "cell_type": "code",
   "execution_count": 11,
   "id": "dc31a6b8",
   "metadata": {
    "scrolled": true
   },
   "outputs": [
    {
     "data": {
      "text/plain": [
       "(3510, 18)"
      ]
     },
     "execution_count": 11,
     "metadata": {},
     "output_type": "execute_result"
    }
   ],
   "source": [
    "# 8월 데이터\n",
    "target_month = 8\n",
    "df8 = df.query('completed_at.dt.month == @target_month')\n",
    "df8.shape"
   ]
  },
  {
   "cell_type": "code",
   "execution_count": 12,
   "id": "f04fe99b",
   "metadata": {
    "scrolled": true
   },
   "outputs": [
    {
     "data": {
      "text/plain": [
       "(2060, 18)"
      ]
     },
     "execution_count": 12,
     "metadata": {},
     "output_type": "execute_result"
    }
   ],
   "source": [
    "# 9월 데이터\n",
    "target_month = 9\n",
    "df9 = df.query('completed_at.dt.month == @target_month')\n",
    "df9.shape"
   ]
  },
  {
   "cell_type": "code",
   "execution_count": 13,
   "id": "88393ada",
   "metadata": {},
   "outputs": [],
   "source": [
    "A = df3.groupby('category_title').size().sort_values(ascending = False)[:10]\n",
    "A = pd.DataFrame(A)\n",
    "\n",
    "B = df4.groupby('category_title').size().sort_values(ascending = False)[:10]\n",
    "B = pd.DataFrame(B)\n",
    "\n",
    "C = df5.groupby('category_title').size().sort_values(ascending = False)[:10]\n",
    "C = pd.DataFrame(C)\n",
    "\n",
    "D = df6.groupby('category_title').size().sort_values(ascending = False)[:10]\n",
    "D = pd.DataFrame(D)\n",
    "\n",
    "E = df7.groupby('category_title').size().sort_values(ascending = False)[:10]\n",
    "E = pd.DataFrame(E)\n",
    "\n",
    "F = df8.groupby('category_title').size().sort_values(ascending = False)[:10]\n",
    "F = pd.DataFrame(F)\n",
    "\n",
    "G = df9.groupby('category_title').size().sort_values(ascending = False)[:10]\n",
    "G = pd.DataFrame(G)"
   ]
  },
  {
   "cell_type": "code",
   "execution_count": 14,
   "id": "7cb628b1",
   "metadata": {},
   "outputs": [
    {
     "data": {
      "text/plain": [
       "<AxesSubplot:xlabel='category_title', ylabel='0'>"
      ]
     },
     "execution_count": 14,
     "metadata": {},
     "output_type": "execute_result"
    },
    {
     "data": {
      "image/png": "[encoded data removed]",
      "text/plain": [
       "<Figure size 1080x576 with 1 Axes>"
      ]
     },
     "metadata": {
      "needs_background": "light"
     },
     "output_type": "display_data"
    }
   ],
   "source": [
    "# 3월 시각화\n",
    "plt.figure(figsize = (15,8))\n",
    "sns.barplot(x = A.index, y = A[0])"
   ]
  },
  {
   "cell_type": "code",
   "execution_count": 15,
   "id": "020c81ff",
   "metadata": {},
   "outputs": [
    {
     "data": {
      "text/plain": [
       "<AxesSubplot:xlabel='category_title', ylabel='0'>"
      ]
     },
     "execution_count": 15,
     "metadata": {},
     "output_type": "execute_result"
    },
    {
     "data": {
      "image/png": "[encoded data removed]",
      "text/plain": [
       "<Figure size 1080x576 with 1 Axes>"
      ]
     },
     "metadata": {
      "needs_background": "light"
     },
     "output_type": "display_data"
    }
   ],
   "source": [
    "# 4월 시각화\n",
    "plt.figure(figsize = (15,8))\n",
    "sns.barplot(x = B.index, y = B[0])"
   ]
  },
  {
   "cell_type": "code",
   "execution_count": 16,
   "id": "169e34fb",
   "metadata": {},
   "outputs": [
    {
     "data": {
      "text/plain": [
       "<AxesSubplot:xlabel='category_title', ylabel='0'>"
      ]
     },
     "execution_count": 16,
     "metadata": {},
     "output_type": "execute_result"
    },
    {
     "data": {
      "image/png": "[encoded data removed]",
      "text/plain": [
       "<Figure size 1080x576 with 1 Axes>"
      ]
     },
     "metadata": {
      "needs_background": "light"
     },
     "output_type": "display_data"
    }
   ],
   "source": [
    "# 5월 시각화\n",
    "plt.figure(figsize = (15,8))\n",
    "sns.barplot(x = C.index, y = C[0])"
   ]
  },
  {
   "cell_type": "code",
   "execution_count": 17,
   "id": "5ac6d1ca",
   "metadata": {},
   "outputs": [
    {
     "data": {
      "text/plain": [
       "<AxesSubplot:xlabel='category_title', ylabel='0'>"
      ]
     },
     "execution_count": 17,
     "metadata": {},
     "output_type": "execute_result"
    },
    {
     "data": {
      "image/png": "[encoded data removed]",
      "text/plain": [
       "<Figure size 1080x576 with 1 Axes>"
      ]
     },
     "metadata": {
      "needs_background": "light"
     },
     "output_type": "display_data"
    }
   ],
   "source": [
    "# 6월 시각화\n",
    "plt.figure(figsize = (15,8))\n",
    "sns.barplot(x = D.index, y = D[0])"
   ]
  },
  {
   "cell_type": "code",
   "execution_count": 18,
   "id": "4e3be2a1",
   "metadata": {},
   "outputs": [
    {
     "data": {
      "text/plain": [
       "<AxesSubplot:xlabel='category_title', ylabel='0'>"
      ]
     },
     "execution_count": 18,
     "metadata": {},
     "output_type": "execute_result"
    },
    {
     "data": {
      "image/png": "[encoded data removed]",
      "text/plain": [
       "<Figure size 1080x576 with 1 Axes>"
      ]
     },
     "metadata": {
      "needs_background": "light"
     },
     "output_type": "display_data"
    }
   ],
   "source": [
    "# 7월 시각화\n",
    "plt.figure(figsize = (15,8))\n",
    "sns.barplot(x = E.index, y = E[0])"
   ]
  },
  {
   "cell_type": "code",
   "execution_count": 19,
   "id": "621244a5",
   "metadata": {},
   "outputs": [
    {
     "data": {
      "text/plain": [
       "<AxesSubplot:xlabel='category_title', ylabel='0'>"
      ]
     },
     "execution_count": 19,
     "metadata": {},
     "output_type": "execute_result"
    },
    {
     "data": {
      "image/png": "[encoded data removed]",
      "text/plain": [
       "<Figure size 1080x576 with 1 Axes>"
      ]
     },
     "metadata": {
      "needs_background": "light"
     },
     "output_type": "display_data"
    }
   ],
   "source": [
    "# 8월 시각화\n",
    "plt.figure(figsize = (15,8))\n",
    "sns.barplot(x = F.index, y = F[0])"
   ]
  },
  {
   "cell_type": "code",
   "execution_count": 20,
   "id": "2fbd4d4c",
   "metadata": {},
   "outputs": [
    {
     "data": {
      "text/plain": [
       "<AxesSubplot:xlabel='category_title', ylabel='0'>"
      ]
     },
     "execution_count": 20,
     "metadata": {},
     "output_type": "execute_result"
    },
    {
     "data": {
      "image/png": "[encoded data removed]",
      "text/plain": [
       "<Figure size 1080x576 with 1 Axes>"
      ]
     },
     "metadata": {
      "needs_background": "light"
     },
     "output_type": "display_data"
    }
   ],
   "source": [
    "# 9월 시각화\n",
    "plt.figure(figsize = (15,8))\n",
    "sns.barplot(x = G.index, y = G[0])"
   ]
  },
  {
   "cell_type": "code",
   "execution_count": 6,
   "id": "762468f4",
   "metadata": {},
   "outputs": [
    {
     "data": {
      "text/plain": [
       "(855, 18)"
      ]
     },
     "execution_count": 6,
     "metadata": {},
     "output_type": "execute_result"
    }
   ],
   "source": [
    "# 3월 데이터\n",
    "target_month = 3\n",
    "df3 = df.query('completed_at.dt.month == @target_month')\n",
    "df3.shape"
   ]
  },
  {
   "cell_type": "code",
   "execution_count": 7,
   "id": "a23fd6f8",
   "metadata": {},
   "outputs": [
    {
     "data": {
      "text/plain": [
       "(3422, 18)"
      ]
     },
     "execution_count": 7,
     "metadata": {},
     "output_type": "execute_result"
    }
   ],
   "source": [
    "# 4월 데이터\n",
    "target_month = 4\n",
    "df4 = df.query('completed_at.dt.month == @target_month')\n",
    "df4.shape"
   ]
  },
  {
   "cell_type": "code",
   "execution_count": 8,
   "id": "7cb39673",
   "metadata": {},
   "outputs": [
    {
     "data": {
      "text/plain": [
       "(2869, 18)"
      ]
     },
     "execution_count": 8,
     "metadata": {},
     "output_type": "execute_result"
    }
   ],
   "source": [
    "# 5월 데이터\n",
    "target_month = 5\n",
    "df5 = df.query('completed_at.dt.month == @target_month')\n",
    "df5.shape"
   ]
  },
  {
   "cell_type": "code",
   "execution_count": 9,
   "id": "5477eb29",
   "metadata": {},
   "outputs": [
    {
     "data": {
      "text/plain": [
       "(3573, 18)"
      ]
     },
     "execution_count": 9,
     "metadata": {},
     "output_type": "execute_result"
    }
   ],
   "source": [
    "# 6월 데이터\n",
    "target_month = 6\n",
    "df6 = df.query('completed_at.dt.month == @target_month')\n",
    "df6.shape"
   ]
  },
  {
   "cell_type": "code",
   "execution_count": 10,
   "id": "3caada36",
   "metadata": {
    "scrolled": true
   },
   "outputs": [
    {
     "data": {
      "text/plain": [
       "(3110, 18)"
      ]
     },
     "execution_count": 10,
     "metadata": {},
     "output_type": "execute_result"
    }
   ],
   "source": [
    "# 7월 데이터\n",
    "target_month = 7\n",
    "df7 = df.query('completed_at.dt.month == @target_month')\n",
    "df7.shape"
   ]
  },
  {
   "cell_type": "code",
   "execution_count": 11,
   "id": "ae0d00fb",
   "metadata": {
    "scrolled": true
   },
   "outputs": [
    {
     "data": {
      "text/plain": [
       "(3510, 18)"
      ]
     },
     "execution_count": 11,
     "metadata": {},
     "output_type": "execute_result"
    }
   ],
   "source": [
    "# 8월 데이터\n",
    "target_month = 8\n",
    "df8 = df.query('completed_at.dt.month == @target_month')\n",
    "df8.shape"
   ]
  },
  {
   "cell_type": "code",
   "execution_count": 12,
   "id": "b63b4d52",
   "metadata": {},
   "outputs": [
    {
     "data": {
      "text/plain": [
       "(2060, 18)"
      ]
     },
     "execution_count": 12,
     "metadata": {},
     "output_type": "execute_result"
    }
   ],
   "source": [
    "# 9월 데이터\n",
    "target_month = 9\n",
    "df9 = df.query('completed_at.dt.month == @target_month')\n",
    "df9.shape"
   ]
  },
  {
   "cell_type": "code",
   "execution_count": null,
   "id": "b21d630d",
   "metadata": {},
   "outputs": [],
   "source": []
  }
 ],
 "metadata": {
  "kernelspec": {
   "display_name": "Python 3 (ipykernel)",
   "language": "python",
   "name": "python3"
  },
  "language_info": {
   "codemirror_mode": {
    "name": "ipython",
    "version": 3
   },
   "file_extension": ".py",
   "mimetype": "text/x-python",
   "name": "python",
   "nbconvert_exporter": "python",
   "pygments_lexer": "ipython3",
   "version": "3.9.7"
  }
 },
 "nbformat": 4,
 "nbformat_minor": 5
}
