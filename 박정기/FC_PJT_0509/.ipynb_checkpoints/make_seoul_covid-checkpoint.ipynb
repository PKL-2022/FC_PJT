{
 "cells": [
  {
   "cell_type": "code",
   "execution_count": 1,
   "id": "8df5aeff",
   "metadata": {},
   "outputs": [],
   "source": [
    "import pandas as pd"
   ]
  },
  {
   "cell_type": "code",
   "execution_count": 38,
   "id": "ff49207b",
   "metadata": {},
   "outputs": [],
   "source": [
    "covid_df = pd.read_csv('서울시 코로나19 확진자 발생동향.csv', encoding='CP949')"
   ]
  },
  {
   "cell_type": "code",
   "execution_count": 39,
   "id": "2440b47c",
   "metadata": {},
   "outputs": [
    {
     "data": {
      "text/plain": [
       "Index(['서울시 기준일', '서울시 확진자', '서울시 추가 확진', '서울시 치료중', '서울시 퇴원', '서울시 추가 퇴원',\n",
       "       '서울시 사망', '서울시 의심환자 전체', '서울시 의심환자 검사중', '서울시 의심환자 검사결과(음성)', '전국 기준일',\n",
       "       '전국 확진', '전국 추가 확진', '전국 치료중', '전국 퇴원', '전국 사망', '전국 의심환자 전체',\n",
       "       '전국 의심환자 검사중', '전국 의심환자 검사결과(음성)', '자가격리자 해외입국자 감시중',\n",
       "       '자가격리자 해외입국자 감시해제', '자가격리자 접촉자 감시중', '자가격리자 접촉자 감시해제', '확인중 확진자',\n",
       "       '서울시 당일사망자', '전국 당일 사망자'],\n",
       "      dtype='object')"
      ]
     },
     "execution_count": 39,
     "metadata": {},
     "output_type": "execute_result"
    }
   ],
   "source": [
    "covid_df.columns"
   ]
  },
  {
   "cell_type": "code",
   "execution_count": 40,
   "id": "16edd51e",
   "metadata": {},
   "outputs": [],
   "source": [
    "covid_df = covid_df[['서울시 기준일', '서울시 추가 확진']]"
   ]
  },
  {
   "cell_type": "code",
   "execution_count": 41,
   "id": "b987c90c",
   "metadata": {},
   "outputs": [],
   "source": [
    "covid_df = covid_df[226:409]"
   ]
  },
  {
   "cell_type": "code",
   "execution_count": 42,
   "id": "6b1b6886",
   "metadata": {},
   "outputs": [],
   "source": [
    "covid_df = covid_df.loc[::-1]"
   ]
  },
  {
   "cell_type": "code",
   "execution_count": 43,
   "id": "8d506cce",
   "metadata": {},
   "outputs": [],
   "source": [
    "covid_df = covid_df.reset_index(drop = True)"
   ]
  },
  {
   "cell_type": "code",
   "execution_count": 44,
   "id": "0c5b0d88",
   "metadata": {},
   "outputs": [
    {
     "data": {
      "text/html": [
       "<div>\n",
       "<style scoped>\n",
       "    .dataframe tbody tr th:only-of-type {\n",
       "        vertical-align: middle;\n",
       "    }\n",
       "\n",
       "    .dataframe tbody tr th {\n",
       "        vertical-align: top;\n",
       "    }\n",
       "\n",
       "    .dataframe thead th {\n",
       "        text-align: right;\n",
       "    }\n",
       "</style>\n",
       "<table border=\"1\" class=\"dataframe\">\n",
       "  <thead>\n",
       "    <tr style=\"text-align: right;\">\n",
       "      <th></th>\n",
       "      <th>서울시 기준일</th>\n",
       "      <th>서울시 추가 확진</th>\n",
       "    </tr>\n",
       "  </thead>\n",
       "  <tbody>\n",
       "    <tr>\n",
       "      <th>0</th>\n",
       "      <td>2021.03.28.00</td>\n",
       "      <td>138</td>\n",
       "    </tr>\n",
       "    <tr>\n",
       "      <th>1</th>\n",
       "      <td>2021.03.29.00</td>\n",
       "      <td>107</td>\n",
       "    </tr>\n",
       "    <tr>\n",
       "      <th>2</th>\n",
       "      <td>2021.03.30.00</td>\n",
       "      <td>145</td>\n",
       "    </tr>\n",
       "    <tr>\n",
       "      <th>3</th>\n",
       "      <td>2021.03.31.00</td>\n",
       "      <td>158</td>\n",
       "    </tr>\n",
       "    <tr>\n",
       "      <th>4</th>\n",
       "      <td>2021.04.01.00</td>\n",
       "      <td>199</td>\n",
       "    </tr>\n",
       "    <tr>\n",
       "      <th>...</th>\n",
       "      <td>...</td>\n",
       "      <td>...</td>\n",
       "    </tr>\n",
       "    <tr>\n",
       "      <th>178</th>\n",
       "      <td>2021.09.21.00</td>\n",
       "      <td>676</td>\n",
       "    </tr>\n",
       "    <tr>\n",
       "      <th>179</th>\n",
       "      <td>2021.09.22.00</td>\n",
       "      <td>644</td>\n",
       "    </tr>\n",
       "    <tr>\n",
       "      <th>180</th>\n",
       "      <td>2021.09.23.00</td>\n",
       "      <td>645</td>\n",
       "    </tr>\n",
       "    <tr>\n",
       "      <th>181</th>\n",
       "      <td>2021.09.24.00</td>\n",
       "      <td>907</td>\n",
       "    </tr>\n",
       "    <tr>\n",
       "      <th>182</th>\n",
       "      <td>2021.09.25.00</td>\n",
       "      <td>1222</td>\n",
       "    </tr>\n",
       "  </tbody>\n",
       "</table>\n",
       "<p>183 rows × 2 columns</p>\n",
       "</div>"
      ],
      "text/plain": [
       "           서울시 기준일  서울시 추가 확진\n",
       "0    2021.03.28.00        138\n",
       "1    2021.03.29.00        107\n",
       "2    2021.03.30.00        145\n",
       "3    2021.03.31.00        158\n",
       "4    2021.04.01.00        199\n",
       "..             ...        ...\n",
       "178  2021.09.21.00        676\n",
       "179  2021.09.22.00        644\n",
       "180  2021.09.23.00        645\n",
       "181  2021.09.24.00        907\n",
       "182  2021.09.25.00       1222\n",
       "\n",
       "[183 rows x 2 columns]"
      ]
     },
     "execution_count": 44,
     "metadata": {},
     "output_type": "execute_result"
    }
   ],
   "source": [
    "covid_df"
   ]
  },
  {
   "cell_type": "code",
   "execution_count": 45,
   "id": "2fe4a05d",
   "metadata": {},
   "outputs": [],
   "source": [
    "covid_df.to_csv(\"covid_seoul.csv\", mode='w')"
   ]
  },
  {
   "cell_type": "code",
   "execution_count": null,
   "id": "54811868",
   "metadata": {},
   "outputs": [],
   "source": []
  }
 ],
 "metadata": {
  "kernelspec": {
   "display_name": "Python 3 (ipykernel)",
   "language": "python",
   "name": "python3"
  },
  "language_info": {
   "codemirror_mode": {
    "name": "ipython",
    "version": 3
   },
   "file_extension": ".py",
   "mimetype": "text/x-python",
   "name": "python",
   "nbconvert_exporter": "python",
   "pygments_lexer": "ipython3",
   "version": "3.9.7"
  }
 },
 "nbformat": 4,
 "nbformat_minor": 5
}
