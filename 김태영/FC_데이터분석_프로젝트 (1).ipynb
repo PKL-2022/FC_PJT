{
 "cells": [
  {
   "cell_type": "markdown",
   "metadata": {
    "id": "19qDXfF0b4MN"
   },
   "source": [
    "### 고객의 재구매율 분석\n",
    "> 전체 구매자와 재구매 이력이 있는 구매자, 그중 웰컴쿠폰을 쓴 구매자의 비교\n",
    "- 전체 구매자와 재구매 이력이 있는 구매자의 비율은 월별로 비슷했다.\n",
    "- 웰컴 쿠폰을 사용한 경우 4, 5, 6월에 집중되있는것을 확인\n",
    "- 프로그래밍 카테고리의 비중이 가장 높았음\n",
    "\n",
    "\n",
    "- 구매 테스트를 위한 페이크강의가 존재하는것 같다.\n",
    "\n",
    ">To_do\n",
    "- 전체 데이터에 대한 전처리 필요\n",
    "- 웰컴쿠폰과 다른 쿠폰과의 구매 비교\n",
    "- 분야별 구매자들의 재구매이력과 쿠폰 사용률 분석\n"
   ]
  },
  {
   "cell_type": "code",
   "execution_count": null,
   "metadata": {
    "id": "j2gkpvQLnBN8"
   },
   "outputs": [],
   "source": [
    "import pandas as pd\n",
    "import numpy as np\n",
    "import matplotlib.pyplot as plt\n",
    "import seaborn as sns"
   ]
  },
  {
   "cell_type": "code",
   "execution_count": null,
   "metadata": {
    "id": "x3Kg8uGFnSCH"
   },
   "outputs": [],
   "source": [
    "!sudo apt-get install -y fonts-nanum\n",
    "!sudo fc-cache -fv\n",
    "!rm ~/.cache/matplotlib -rf\n"
   ]
  },
  {
   "cell_type": "code",
   "execution_count": null,
   "metadata": {
    "id": "ArbouCE7sOrq"
   },
   "outputs": [],
   "source": [
    "plt.rc('font', family='NanumBarunGothic') "
   ]
  },
  {
   "cell_type": "code",
   "execution_count": null,
   "metadata": {
    "id": "CK81CF0svSpX"
   },
   "outputs": [],
   "source": [
    "from google.colab import drive\n",
    "drive.mount('/content/drive')"
   ]
  },
  {
   "cell_type": "code",
   "execution_count": null,
   "metadata": {
    "id": "HR7RtgWInEGu"
   },
   "outputs": [],
   "source": [
    "df_c= pd.read_excel(\"/content/drive/MyDrive/colab notebooks/파이널프로젝트_RAW_210329_210926.xlsx\")\n"
   ]
  },
  {
   "cell_type": "code",
   "execution_count": null,
   "metadata": {
    "id": "R0WPDH05pPwf"
   },
   "outputs": [],
   "source": [
    "df = df_c"
   ]
  },
  {
   "cell_type": "markdown",
   "metadata": {
    "id": "jrZx8eezn1Vs"
   },
   "source": [
    "## 데이터전처리\n",
    "- type 칼럼의 ORDER, TRANSACTION 값을 가진 ROW drop"
   ]
  },
  {
   "cell_type": "code",
   "execution_count": null,
   "metadata": {
    "id": "2hzSBzT1n3JD"
   },
   "outputs": [],
   "source": [
    "d = df[df.type.str.contains('ORDER|TRANSCATION')].index\n",
    "df.drop(d, inplace = True)"
   ]
  },
  {
   "cell_type": "code",
   "execution_count": null,
   "metadata": {
    "id": "Bp-We8HUqqTL"
   },
   "outputs": [],
   "source": []
  },
  {
   "cell_type": "code",
   "execution_count": null,
   "metadata": {
    "id": "R1clET5VnwkY"
   },
   "outputs": [],
   "source": [
    "df.head()"
   ]
  },
  {
   "cell_type": "code",
   "execution_count": null,
   "metadata": {
    "id": "59ByeRflquAO"
   },
   "outputs": [],
   "source": [
    "df.describe()"
   ]
  },
  {
   "cell_type": "code",
   "execution_count": null,
   "metadata": {
    "id": "1Boh5mObqyP8"
   },
   "outputs": [],
   "source": [
    "df.info()"
   ]
  },
  {
   "cell_type": "markdown",
   "metadata": {
    "id": "DUr20_qUyd7D"
   },
   "source": [
    "## 강의를 결제완료한 사람들의 Df 생성"
   ]
  },
  {
   "cell_type": "code",
   "execution_count": null,
   "metadata": {
    "id": "9I1d6RHBoefC"
   },
   "outputs": [],
   "source": [
    "pay = df[(df.type == 'PAYMENT') & (df.state == 'COMPLETED')]"
   ]
  },
  {
   "cell_type": "code",
   "execution_count": null,
   "metadata": {
    "id": "FAx99bl5qZqJ"
   },
   "outputs": [],
   "source": [
    "pay"
   ]
  },
  {
   "cell_type": "code",
   "execution_count": null,
   "metadata": {
    "id": "_EfD572ddpjg"
   },
   "outputs": [],
   "source": [
    "pay['date'] = pay['completed_at'].dt.month"
   ]
  },
  {
   "cell_type": "code",
   "execution_count": null,
   "metadata": {
    "id": "TXoJZ_TVvjlC"
   },
   "outputs": [],
   "source": [
    "pay.customer_id.value_counts()"
   ]
  },
  {
   "cell_type": "markdown",
   "metadata": {
    "id": "4D6DPqkvynjs"
   },
   "source": [
    "#### 39519명이 강의를 결제함"
   ]
  },
  {
   "cell_type": "markdown",
   "metadata": {
    "id": "_Mh63-oiy9Ba"
   },
   "source": [
    "### 결제완료한 사람 중 2번이상 결제한 사람을 대상으로 df생성"
   ]
  },
  {
   "cell_type": "code",
   "execution_count": null,
   "metadata": {
    "id": "h5jLaTuNpBe8"
   },
   "outputs": [],
   "source": [
    "cond2 = pay.customer_id.value_counts().loc[pay.customer_id.value_counts() > 1].index\n",
    "cond2"
   ]
  },
  {
   "cell_type": "code",
   "execution_count": null,
   "metadata": {
    "id": "RWSHiMv3fDd0"
   },
   "outputs": [],
   "source": [
    "pay.customer_id.value_counts().loc[pay.customer_id.value_counts() > 1].count()/pay.customer_id.value_counts().count()"
   ]
  },
  {
   "cell_type": "markdown",
   "metadata": {
    "id": "X3SRchz1iQs6"
   },
   "source": [
    "- 전체 유저 중 2번이상 이용한 유저의 비율 약 20%"
   ]
  },
  {
   "cell_type": "code",
   "execution_count": null,
   "metadata": {
    "id": "drljkYTHnkm7"
   },
   "outputs": [],
   "source": [
    "df1 = pay.loc[pay.customer_id.isin(cond2)]"
   ]
  },
  {
   "cell_type": "markdown",
   "metadata": {
    "id": "uzqLCO7XzT68"
   },
   "source": [
    "### 2번이상 결제한 사람들의 강의중 쿠폰을 사용한 강의를 대상으로 df생성"
   ]
  },
  {
   "cell_type": "code",
   "execution_count": null,
   "metadata": {
    "id": "p4z7kO-ZuWaO"
   },
   "outputs": [],
   "source": [
    "coupon_y = df1[df1.coupon_title.notnull()].customer_id\n",
    "coupon_y"
   ]
  },
  {
   "cell_type": "code",
   "execution_count": null,
   "metadata": {
    "id": "DH1bxb2Rb7QU"
   },
   "outputs": [],
   "source": [
    "df2 = df1.loc[df1.customer_id.isin(coupon_y)]"
   ]
  },
  {
   "cell_type": "code",
   "execution_count": null,
   "metadata": {
    "id": "DKhUWtd2wWBi"
   },
   "outputs": [],
   "source": [
    "df2"
   ]
  },
  {
   "cell_type": "code",
   "execution_count": null,
   "metadata": {
    "id": "uwYNhc16fD1d"
   },
   "outputs": [],
   "source": [
    "df3 = df2.dropna(axis=0)"
   ]
  },
  {
   "cell_type": "code",
   "execution_count": null,
   "metadata": {
    "id": "cNdFEbucfQc_"
   },
   "outputs": [],
   "source": [
    "df3"
   ]
  },
  {
   "cell_type": "code",
   "execution_count": null,
   "metadata": {
    "id": "z0K7sSDKt0Bz"
   },
   "outputs": [],
   "source": [
    "df3.groupby('category_title').size()"
   ]
  },
  {
   "cell_type": "code",
   "execution_count": null,
   "metadata": {
    "id": "UCCM5-tivlAx"
   },
   "outputs": [],
   "source": []
  },
  {
   "cell_type": "code",
   "execution_count": null,
   "metadata": {
    "id": "k6XZ71pGtz9z"
   },
   "outputs": [],
   "source": [
    "df3.groupby('coupon_title').size().sort_values(ascending = False)"
   ]
  },
  {
   "cell_type": "code",
   "execution_count": null,
   "metadata": {
    "id": "omGG61jntz7e"
   },
   "outputs": [],
   "source": [
    "cond3 = df3[df3.coupon_title.str.contains('웰컴쿠폰')].customer_id"
   ]
  },
  {
   "cell_type": "code",
   "execution_count": null,
   "metadata": {
    "id": "kA2Jn5lFyQxa"
   },
   "outputs": [],
   "source": [
    "df4 = pay.loc[pay.customer_id.isin(cond3)]"
   ]
  },
  {
   "cell_type": "markdown",
   "metadata": {
    "id": "yoNPxrkhoU8m"
   },
   "source": [
    "- 2번 이상의 구매를 하고 웰컴쿠폰을 쓴 이력이 있는 구매자들"
   ]
  },
  {
   "cell_type": "code",
   "execution_count": null,
   "metadata": {
    "id": "jrBo8K1g47v7"
   },
   "outputs": [],
   "source": [
    "df4"
   ]
  },
  {
   "cell_type": "code",
   "execution_count": null,
   "metadata": {
    "id": "IUua1gqkc4lj"
   },
   "outputs": [],
   "source": []
  },
  {
   "cell_type": "code",
   "execution_count": null,
   "metadata": {
    "id": "ILg3V0lVnTAm"
   },
   "outputs": [],
   "source": []
  },
  {
   "cell_type": "markdown",
   "metadata": {
    "id": "MKlOKGrCs_7j"
   },
   "source": [
    "### 재수강율?\n",
    "재수강한 고객 / 전체 고객\n",
    "\n",
    "쿠폰?\n",
    "\n",
    "분야?"
   ]
  },
  {
   "cell_type": "code",
   "execution_count": null,
   "metadata": {
    "id": "5vclr7b9gLuD"
   },
   "outputs": [],
   "source": []
  },
  {
   "cell_type": "code",
   "execution_count": null,
   "metadata": {
    "id": "cXj_CGBbuZzq"
   },
   "outputs": [],
   "source": [
    "f,ax = plt.subplots(1,2,figsize=(16,8))\n",
    "pay['date'].value_counts().plot.pie(autopct='%1.1f%%', ax=ax[0], shadow=True)\n",
    "ax[0].set_title('Month Percentage')\n",
    "ax[0].set_ylabel('')\n",
    "sns.countplot('date', data=pay, ax=ax[1])\n",
    "ax[1].set_title('Month_Count')\n",
    "plt.suptitle('월별 구매자', fontsize=20)\n",
    "plt.show()"
   ]
  },
  {
   "cell_type": "markdown",
   "metadata": {
    "id": "wUMu1VdBskEH"
   },
   "source": [
    "- 전체 구매자의 월별 구매비율"
   ]
  },
  {
   "cell_type": "code",
   "execution_count": null,
   "metadata": {
    "id": "CJkwSJmtu51s"
   },
   "outputs": [],
   "source": [
    "f,ax = plt.subplots(1,2,figsize=(16,8))\n",
    "df1['date'].value_counts().plot.pie(autopct='%1.1f%%', ax=ax[0], shadow=True)\n",
    "ax[0].set_title('Month Percentage')\n",
    "ax[0].set_ylabel('')\n",
    "sns.countplot('date', data=df1, ax=ax[1])\n",
    "ax[1].set_title('Month_Count')\n",
    "plt.suptitle('재구매 이력이 있는 구매자', fontsize=20)\n",
    "plt.show()"
   ]
  },
  {
   "cell_type": "markdown",
   "metadata": {
    "id": "7n7GHvdovciE"
   },
   "source": []
  },
  {
   "cell_type": "code",
   "execution_count": null,
   "metadata": {
    "id": "tmb_32c_hIyn"
   },
   "outputs": [],
   "source": [
    "f,ax = plt.subplots(1,2,figsize=(16,8))\n",
    "df4['date'].value_counts().plot.pie(autopct='%1.1f%%', ax=ax[0], shadow=True)\n",
    "ax[0].set_title('Month Percentage')\n",
    "ax[0].set_ylabel('')\n",
    "sns.countplot('date', data=df4, ax=ax[1])\n",
    "ax[1].set_title('Month_Count')\n",
    "plt.show()"
   ]
  },
  {
   "cell_type": "markdown",
   "metadata": {
    "id": "R0O-cnIespFp"
   },
   "source": [
    "- [Welcome]쿠폰을 사용한적이 있는 재구매 이력이 있는 구매자의 월별 구매량"
   ]
  },
  {
   "cell_type": "code",
   "execution_count": null,
   "metadata": {
    "id": "L9RdwogVoOFc"
   },
   "outputs": [],
   "source": [
    "f,ax = plt.subplots(1,2,figsize=(20,10))\n",
    "df4['category_title'].value_counts().plot.pie(autopct='%1.1f%%', ax=ax[0], shadow=True)\n",
    "ax[0].set_title('Month Percentage')\n",
    "ax[0].set_ylabel('')\n",
    "sns.countplot('category_title', data=df4, ax=ax[1])\n",
    "ax[1].set_title('Month_Count')\n",
    "plt.show()"
   ]
  },
  {
   "cell_type": "markdown",
   "metadata": {
    "id": "Em5oVhTDs0Oo"
   },
   "source": [
    "쿠폰을 사용한적이 있는 재구매 이력이 있는 구매자의 카테고리"
   ]
  },
  {
   "cell_type": "code",
   "execution_count": null,
   "metadata": {
    "id": "v-eXaFcDofoz"
   },
   "outputs": [],
   "source": [
    "df[df.sale_price.isnull()]"
   ]
  },
  {
   "cell_type": "code",
   "execution_count": null,
   "metadata": {
    "id": "oAs4d_wFyvLn"
   },
   "outputs": [],
   "source": [
    "nantitle = df.drop(df[df.course_title.isna()].index)"
   ]
  },
  {
   "cell_type": "code",
   "execution_count": null,
   "metadata": {
    "id": "iCeN_d6xzhJa"
   },
   "outputs": [],
   "source": []
  }
 ],
 "metadata": {
  "colab": {
   "collapsed_sections": [],
   "name": "FC_데이터분석_프로젝트.ipynb",
   "private_outputs": true,
   "provenance": []
  },
  "kernelspec": {
   "display_name": "Python 3 (ipykernel)",
   "language": "python",
   "name": "python3"
  },
  "language_info": {
   "codemirror_mode": {
    "name": "ipython",
    "version": 3
   },
   "file_extension": ".py",
   "mimetype": "text/x-python",
   "name": "python",
   "nbconvert_exporter": "python",
   "pygments_lexer": "ipython3",
   "version": "3.9.10"
  }
 },
 "nbformat": 4,
 "nbformat_minor": 1
}
