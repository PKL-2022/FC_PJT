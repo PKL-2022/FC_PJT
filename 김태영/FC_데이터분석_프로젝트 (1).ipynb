{
  "nbformat": 4,
  "nbformat_minor": 0,
  "metadata": {
    "colab": {
      "name": "FC_데이터분석_프로젝트.ipynb",
      "private_outputs": true,
      "provenance": [],
      "collapsed_sections": []
    },
    "kernelspec": {
      "name": "python3",
      "display_name": "Python 3"
    },
    "language_info": {
      "name": "python"
    }
  },
  "cells": [
    {
      "cell_type": "markdown",
      "source": [
        "### 고객의 재구매율 분석\n",
        "> 전체 구매자와 재구매 이력이 있는 구매자, 그중 웰컴쿠폰을 쓴 구매자의 비교\n",
        "- 전체 구매자와 재구매 이력이 있는 구매자의 비율은 월별로 비슷했다.\n",
        "- 웰컴 쿠폰을 사용한 경우 4, 5, 6월에 집중되있는것을 확인\n",
        "- 프로그래밍 카테고리의 비중이 가장 높았음\n",
        "\n",
        "\n",
        "- 구매 테스트를 위한 페이크강의가 존재하는것 같다.\n",
        "\n",
        ">To_do\n",
        "- 전체 데이터에 대한 전처리 필요\n",
        "- 웰컴쿠폰과 다른 쿠폰과의 구매 비교\n",
        "- 분야별 구매자들의 재구매이력과 쿠폰 사용률 분석\n"
      ],
      "metadata": {
        "id": "19qDXfF0b4MN"
      }
    },
    {
      "cell_type": "code",
      "execution_count": null,
      "metadata": {
        "id": "j2gkpvQLnBN8"
      },
      "outputs": [],
      "source": [
        "import pandas as pd\n",
        "import numpy as np\n",
        "import matplotlib.pyplot as plt\n",
        "import seaborn as sns"
      ]
    },
    {
      "cell_type": "code",
      "source": [
        "!sudo apt-get install -y fonts-nanum\n",
        "!sudo fc-cache -fv\n",
        "!rm ~/.cache/matplotlib -rf\n"
      ],
      "metadata": {
        "id": "x3Kg8uGFnSCH"
      },
      "execution_count": null,
      "outputs": []
    },
    {
      "cell_type": "code",
      "source": [
        "plt.rc('font', family='NanumBarunGothic') "
      ],
      "metadata": {
        "id": "ArbouCE7sOrq"
      },
      "execution_count": null,
      "outputs": []
    },
    {
      "cell_type": "code",
      "source": [
        "from google.colab import drive\n",
        "drive.mount('/content/drive')"
      ],
      "metadata": {
        "id": "CK81CF0svSpX"
      },
      "execution_count": null,
      "outputs": []
    },
    {
      "cell_type": "code",
      "source": [
        "df_c= pd.read_excel(\"/content/drive/MyDrive/colab notebooks/파이널프로젝트_RAW_210329_210926.xlsx\")\n"
      ],
      "metadata": {
        "id": "HR7RtgWInEGu"
      },
      "execution_count": null,
      "outputs": []
    },
    {
      "cell_type": "code",
      "source": [
        "df = df_c"
      ],
      "metadata": {
        "id": "R0WPDH05pPwf"
      },
      "execution_count": null,
      "outputs": []
    },
    {
      "cell_type": "markdown",
      "source": [
        "## 데이터전처리\n",
        "- type 칼럼의 ORDER, TRANSACTION 값을 가진 ROW drop"
      ],
      "metadata": {
        "id": "jrZx8eezn1Vs"
      }
    },
    {
      "cell_type": "code",
      "source": [
        "d = df[df.type.str.contains('ORDER|TRANSCATION')].index\n",
        "df.drop(d, inplace = True)"
      ],
      "metadata": {
        "id": "2hzSBzT1n3JD"
      },
      "execution_count": null,
      "outputs": []
    },
    {
      "cell_type": "code",
      "source": [
        ""
      ],
      "metadata": {
        "id": "Bp-We8HUqqTL"
      },
      "execution_count": null,
      "outputs": []
    },
    {
      "cell_type": "code",
      "source": [
        "df.head()"
      ],
      "metadata": {
        "id": "R1clET5VnwkY"
      },
      "execution_count": null,
      "outputs": []
    },
    {
      "cell_type": "code",
      "source": [
        "df.describe()"
      ],
      "metadata": {
        "id": "59ByeRflquAO"
      },
      "execution_count": null,
      "outputs": []
    },
    {
      "cell_type": "code",
      "source": [
        "df.info()"
      ],
      "metadata": {
        "id": "1Boh5mObqyP8"
      },
      "execution_count": null,
      "outputs": []
    },
    {
      "cell_type": "markdown",
      "source": [
        "## 강의를 결제완료한 사람들의 Df 생성"
      ],
      "metadata": {
        "id": "DUr20_qUyd7D"
      }
    },
    {
      "cell_type": "code",
      "source": [
        "pay = df[(df.type == 'PAYMENT') & (df.state == 'COMPLETED')]"
      ],
      "metadata": {
        "id": "9I1d6RHBoefC"
      },
      "execution_count": null,
      "outputs": []
    },
    {
      "cell_type": "code",
      "source": [
        "pay"
      ],
      "metadata": {
        "id": "FAx99bl5qZqJ"
      },
      "execution_count": null,
      "outputs": []
    },
    {
      "cell_type": "code",
      "source": [
        "pay['date'] = pay['completed_at'].dt.month"
      ],
      "metadata": {
        "id": "_EfD572ddpjg"
      },
      "execution_count": null,
      "outputs": []
    },
    {
      "cell_type": "code",
      "source": [
        "pay.customer_id.value_counts()"
      ],
      "metadata": {
        "id": "TXoJZ_TVvjlC"
      },
      "execution_count": null,
      "outputs": []
    },
    {
      "cell_type": "markdown",
      "source": [
        "#### 39519명이 강의를 결제함"
      ],
      "metadata": {
        "id": "4D6DPqkvynjs"
      }
    },
    {
      "cell_type": "markdown",
      "source": [
        "### 결제완료한 사람 중 2번이상 결제한 사람을 대상으로 df생성"
      ],
      "metadata": {
        "id": "_Mh63-oiy9Ba"
      }
    },
    {
      "cell_type": "code",
      "source": [
        "cond2 = pay.customer_id.value_counts().loc[pay.customer_id.value_counts() > 1].index\n",
        "cond2"
      ],
      "metadata": {
        "id": "h5jLaTuNpBe8"
      },
      "execution_count": null,
      "outputs": []
    },
    {
      "cell_type": "code",
      "source": [
        "pay.customer_id.value_counts().loc[pay.customer_id.value_counts() > 1].count()/pay.customer_id.value_counts().count()"
      ],
      "metadata": {
        "id": "RWSHiMv3fDd0"
      },
      "execution_count": null,
      "outputs": []
    },
    {
      "cell_type": "markdown",
      "source": [
        "- 전체 유저 중 2번이상 이용한 유저의 비율 약 20%"
      ],
      "metadata": {
        "id": "X3SRchz1iQs6"
      }
    },
    {
      "cell_type": "code",
      "source": [
        "df1 = pay.loc[pay.customer_id.isin(cond2)]"
      ],
      "metadata": {
        "id": "drljkYTHnkm7"
      },
      "execution_count": null,
      "outputs": []
    },
    {
      "cell_type": "markdown",
      "source": [
        "### 2번이상 결제한 사람들의 강의중 쿠폰을 사용한 강의를 대상으로 df생성"
      ],
      "metadata": {
        "id": "uzqLCO7XzT68"
      }
    },
    {
      "cell_type": "code",
      "source": [
        "coupon_y = df1[df1.coupon_title.notnull()].customer_id\n",
        "coupon_y"
      ],
      "metadata": {
        "id": "p4z7kO-ZuWaO"
      },
      "execution_count": null,
      "outputs": []
    },
    {
      "cell_type": "code",
      "source": [
        "df2 = df1.loc[df1.customer_id.isin(coupon_y)]"
      ],
      "metadata": {
        "id": "DH1bxb2Rb7QU"
      },
      "execution_count": null,
      "outputs": []
    },
    {
      "cell_type": "code",
      "source": [
        "df2"
      ],
      "metadata": {
        "id": "DKhUWtd2wWBi"
      },
      "execution_count": null,
      "outputs": []
    },
    {
      "cell_type": "code",
      "source": [
        "df3 = df2.dropna(axis=0)"
      ],
      "metadata": {
        "id": "uwYNhc16fD1d"
      },
      "execution_count": null,
      "outputs": []
    },
    {
      "cell_type": "code",
      "source": [
        "df3"
      ],
      "metadata": {
        "id": "cNdFEbucfQc_"
      },
      "execution_count": null,
      "outputs": []
    },
    {
      "cell_type": "code",
      "source": [
        "df3.groupby('category_title').size()"
      ],
      "metadata": {
        "id": "z0K7sSDKt0Bz"
      },
      "execution_count": null,
      "outputs": []
    },
    {
      "cell_type": "code",
      "source": [
        ""
      ],
      "metadata": {
        "id": "UCCM5-tivlAx"
      },
      "execution_count": null,
      "outputs": []
    },
    {
      "cell_type": "code",
      "source": [
        "df3.groupby('coupon_title').size().sort_values(ascending = False)"
      ],
      "metadata": {
        "id": "k6XZ71pGtz9z"
      },
      "execution_count": null,
      "outputs": []
    },
    {
      "cell_type": "code",
      "source": [
        "cond3 = df3[df3.coupon_title.str.contains('웰컴쿠폰')].customer_id"
      ],
      "metadata": {
        "id": "omGG61jntz7e"
      },
      "execution_count": null,
      "outputs": []
    },
    {
      "cell_type": "code",
      "source": [
        "df4 = pay.loc[pay.customer_id.isin(cond3)]"
      ],
      "metadata": {
        "id": "kA2Jn5lFyQxa"
      },
      "execution_count": null,
      "outputs": []
    },
    {
      "cell_type": "markdown",
      "source": [
        "- 2번 이상의 구매를 하고 웰컴쿠폰을 쓴 이력이 있는 구매자들"
      ],
      "metadata": {
        "id": "yoNPxrkhoU8m"
      }
    },
    {
      "cell_type": "code",
      "source": [
        "df4"
      ],
      "metadata": {
        "id": "jrBo8K1g47v7"
      },
      "execution_count": null,
      "outputs": []
    },
    {
      "cell_type": "code",
      "source": [
        ""
      ],
      "metadata": {
        "id": "IUua1gqkc4lj"
      },
      "execution_count": null,
      "outputs": []
    },
    {
      "cell_type": "code",
      "source": [
        ""
      ],
      "metadata": {
        "id": "ILg3V0lVnTAm"
      },
      "execution_count": null,
      "outputs": []
    },
    {
      "cell_type": "markdown",
      "source": [
        "### 재수강율?\n",
        "재수강한 고객 / 전체 고객\n",
        "\n",
        "쿠폰?\n",
        "\n",
        "분야?"
      ],
      "metadata": {
        "id": "MKlOKGrCs_7j"
      }
    },
    {
      "cell_type": "code",
      "source": [
        ""
      ],
      "metadata": {
        "id": "5vclr7b9gLuD"
      },
      "execution_count": null,
      "outputs": []
    },
    {
      "cell_type": "code",
      "source": [
        "f,ax = plt.subplots(1,2,figsize=(16,8))\n",
        "pay['date'].value_counts().plot.pie(autopct='%1.1f%%', ax=ax[0], shadow=True)\n",
        "ax[0].set_title('Month Percentage')\n",
        "ax[0].set_ylabel('')\n",
        "sns.countplot('date', data=pay, ax=ax[1])\n",
        "ax[1].set_title('Month_Count')\n",
        "plt.suptitle('월별 구매자', fontsize=20)\n",
        "plt.show()"
      ],
      "metadata": {
        "id": "cXj_CGBbuZzq"
      },
      "execution_count": null,
      "outputs": []
    },
    {
      "cell_type": "markdown",
      "source": [
        "- 전체 구매자의 월별 구매비율"
      ],
      "metadata": {
        "id": "wUMu1VdBskEH"
      }
    },
    {
      "cell_type": "code",
      "source": [
        "f,ax = plt.subplots(1,2,figsize=(16,8))\n",
        "df1['date'].value_counts().plot.pie(autopct='%1.1f%%', ax=ax[0], shadow=True)\n",
        "ax[0].set_title('Month Percentage')\n",
        "ax[0].set_ylabel('')\n",
        "sns.countplot('date', data=df1, ax=ax[1])\n",
        "ax[1].set_title('Month_Count')\n",
        "plt.suptitle('재구매 이력이 있는 구매자', fontsize=20)\n",
        "plt.show()"
      ],
      "metadata": {
        "id": "CJkwSJmtu51s"
      },
      "execution_count": null,
      "outputs": []
    },
    {
      "cell_type": "markdown",
      "source": [
        ""
      ],
      "metadata": {
        "id": "7n7GHvdovciE"
      }
    },
    {
      "cell_type": "code",
      "source": [
        "f,ax = plt.subplots(1,2,figsize=(16,8))\n",
        "df4['date'].value_counts().plot.pie(autopct='%1.1f%%', ax=ax[0], shadow=True)\n",
        "ax[0].set_title('Month Percentage')\n",
        "ax[0].set_ylabel('')\n",
        "sns.countplot('date', data=df4, ax=ax[1])\n",
        "ax[1].set_title('Month_Count')\n",
        "plt.show()"
      ],
      "metadata": {
        "id": "tmb_32c_hIyn"
      },
      "execution_count": null,
      "outputs": []
    },
    {
      "cell_type": "markdown",
      "source": [
        "- [Welcome]쿠폰을 사용한적이 있는 재구매 이력이 있는 구매자의 월별 구매량"
      ],
      "metadata": {
        "id": "R0O-cnIespFp"
      }
    },
    {
      "cell_type": "code",
      "source": [
        "f,ax = plt.subplots(1,2,figsize=(20,10))\n",
        "df4['category_title'].value_counts().plot.pie(autopct='%1.1f%%', ax=ax[0], shadow=True)\n",
        "ax[0].set_title('Month Percentage')\n",
        "ax[0].set_ylabel('')\n",
        "sns.countplot('category_title', data=df4, ax=ax[1])\n",
        "ax[1].set_title('Month_Count')\n",
        "plt.show()"
      ],
      "metadata": {
        "id": "L9RdwogVoOFc"
      },
      "execution_count": null,
      "outputs": []
    },
    {
      "cell_type": "markdown",
      "source": [
        "쿠폰을 사용한적이 있는 재구매 이력이 있는 구매자의 카테고리"
      ],
      "metadata": {
        "id": "Em5oVhTDs0Oo"
      }
    },
    {
      "cell_type": "code",
      "source": [
        "df[df.sale_price.isnull()]"
      ],
      "metadata": {
        "id": "v-eXaFcDofoz"
      },
      "execution_count": null,
      "outputs": []
    },
    {
      "cell_type": "code",
      "source": [
        "nantitle = df.drop(df[df.course_title.isna()].index)"
      ],
      "metadata": {
        "id": "oAs4d_wFyvLn"
      },
      "execution_count": null,
      "outputs": []
    },
    {
      "cell_type": "code",
      "source": [
        ""
      ],
      "metadata": {
        "id": "iCeN_d6xzhJa"
      },
      "execution_count": null,
      "outputs": []
    }
  ]
}